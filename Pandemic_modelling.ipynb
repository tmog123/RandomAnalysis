{
 "cells": [
  {
   "cell_type": "code",
   "execution_count": 1,
   "id": "5688ea46-2d7e-4a99-85de-9dc94d3c65e7",
   "metadata": {},
   "outputs": [],
   "source": [
    "import numpy as np\n",
    "import scipy as scp\n",
    "import matplotlib.pyplot as plt\n",
    "from joblib import Parallel, delayed\n",
    "from tqdm import tqdm\n",
    "\n",
    "def plot_histogram(data,numberofbins,label,minimum,maximum):\n",
    "    bins = np.linspace(minimum, maximum, numberofbins)\n",
    "    bin_probabilities = np.histogram(data,bins)[0]/len(data)\n",
    "    leftedges = bins[:-1]\n",
    "    rightedges = bins[1:]\n",
    "    widths = np.array(rightedges)-np.array(leftedges)\n",
    "    plt.bar(leftedges,bin_probabilities,width=widths,align='edge',label=label,alpha=0.5)\n",
    "    binmidvalues = [(bins[i]+bins[i+1])/2 for i in range(len(bins)-1)]"
   ]
  },
  {
   "cell_type": "code",
   "execution_count": 2,
   "id": "798795c6-7cd2-45ac-90a0-00d0a60e2bb0",
   "metadata": {},
   "outputs": [],
   "source": [
    "class Person(object):\n",
    "    def __init__(self,starting_x,starting_y,walk_method,min_x,max_x,min_y,max_y):\n",
    "        self.status = 0 #0 = Health, 1 = Infected, 2 = Immune\n",
    "        self.x = starting_x\n",
    "        self.y = starting_y\n",
    "        self.days_ill = 0\n",
    "        self.walk_method = walk_method #'Random_single_walk','Sick_become_stationary'\n",
    "        self.min_x = min_x\n",
    "        self.max_x = max_x\n",
    "        self.min_y = min_y\n",
    "        self.max_y = max_y\n",
    "    def get_position(self):\n",
    "        return [self.x,self.y]\n",
    "    def get_status(self):\n",
    "        return self.status\n",
    "    def get_days_ill(self):\n",
    "        return self.days_ill\n",
    "    def infect_self(self):\n",
    "        if self.status == 0:\n",
    "            self.status = 1\n",
    "    def perform_walk(self):\n",
    "        if self.walk_method == 'Random_single_walk':\n",
    "            thingtodo = np.random.randint(0,5)\n",
    "            if thingtodo == 1:# Walk left\n",
    "                self.x = max(self.min_x,self.x - 1)\n",
    "            elif thingtodo == 2:# Walk right\n",
    "                self.x = min(self.max_x,self.x+1)\n",
    "            elif thingtodo == 3:# Walk up\n",
    "                self.y = min(self.max_y,self.y+1)\n",
    "            elif thingtodo == 4:# Walk down\n",
    "                self.y = max(self.min_y,self.y-1)\n",
    "        elif self.walk_method == 'Sick_become_stationary':\n",
    "            if self.status != 1:#If not sick, then can walk\n",
    "                thingtodo = np.random.randint(0,5)\n",
    "                if thingtodo == 1:# Walk left\n",
    "                    self.x = max(self.min_x,self.x - 1)\n",
    "                elif thingtodo == 2:# Walk right\n",
    "                    self.x = min(self.max_x,self.x+1)\n",
    "                elif thingtodo == 3:# Walk up\n",
    "                    self.y = min(self.max_y,self.y+1)\n",
    "                elif thingtodo == 4:# Walk down\n",
    "                    self.y = max(self.min_y,self.y-1)                \n",
    "    def update_sick_days(self):\n",
    "        if self.status == 1:\n",
    "            self.days_ill = self.days_ill+1\n",
    "            if self.days_ill >= 20:\n",
    "                self.status = 2\n",
    "                \n",
    "    def calculate_distance(self,agent2):\n",
    "        agent1x,agent1y = self.get_position()\n",
    "        agent2x,agent2y = agent2.get_position()\n",
    "        return np.sqrt((agent2x-agent1x)**2+(agent2y-agent1y)**2)\n",
    "                \n",
    "                \n",
    "class Simulation(object):\n",
    "    def __init__(self,N,infect_chance,min_x,max_x,min_y,max_y,walk_method):\n",
    "        self.min_x = min_x\n",
    "        self.max_x = max_x\n",
    "        self.min_y = min_y\n",
    "        self.max_y = max_y\n",
    "        self.N = N\n",
    "        self.healthy_agents = []\n",
    "        self.sick_agents = []\n",
    "        self.immune_agents = []\n",
    "        self.results = {'healthy':[N-1],'sick':[1],'immune':[0]}\n",
    "        self.days_run = 0\n",
    "        self.best_infect_chance = infect_chance\n",
    "        self.walk_method = walk_method\n",
    "        #Insert initial sick Person\n",
    "        self.sick_agents.append(Person(np.random.randint(self.min_x,self.max_x+1),\n",
    "                                       np.random.randint(self.min_y,self.max_y+1),\n",
    "                                       self.walk_method,\n",
    "                                       self.min_x,self.max_x,self.min_y,self.max_y))\n",
    "        self.sick_agents[0].infect_self()\n",
    "        self.sick_agents[0].update_sick_days()\n",
    "        #Insert healthy persons\n",
    "        for i in range(N-1):\n",
    "            self.healthy_agents.append(Person(np.random.randint(self.min_x,self.max_x+1),\n",
    "                                       np.random.randint(self.min_y,self.max_y+1),\n",
    "                                       self.walk_method,\n",
    "                                       self.min_x,self.max_x,self.min_y,self.max_y))        \n",
    "    def perform_walk_step(self):\n",
    "        for a in self.healthy_agents:\n",
    "            a.perform_walk()\n",
    "        for a in self.sick_agents:\n",
    "            a.perform_walk()\n",
    "        for a in self.immune_agents:\n",
    "            a.perform_walk()\n",
    "    def change_infect_chance(self,chance):\n",
    "        self.best_infect_chance = chance\n",
    "    def perform_infection_step(self):\n",
    "        new_healthy = []\n",
    "        additional_sick = []\n",
    "        for healthy in self.healthy_agents:\n",
    "            for sick in self.sick_agents:\n",
    "                #Calculate distance\n",
    "                distance_sqr = healthy.calculate_distance(sick)**2\n",
    "                prob_infect = (self.best_infect_chance)*np.exp(-distance_sqr/10)\n",
    "                random_number = np.random.rand()\n",
    "                if random_number <= prob_infect:\n",
    "                    healthy.infect_self()\n",
    "                    # additional_sick.append(healthy)\n",
    "                    break\n",
    "            if healthy.get_status() == 0:\n",
    "                new_healthy.append(healthy)\n",
    "            elif healthy.get_status() == 1:\n",
    "                additional_sick.append(healthy)\n",
    "        self.sick_agents = self.sick_agents + additional_sick\n",
    "        self.healthy_agents = new_healthy\n",
    "    def update_days_for_sick(self):\n",
    "        new_sick = []\n",
    "        additional_immune = []\n",
    "        for sick in self.sick_agents:\n",
    "            sick.update_sick_days()\n",
    "            if sick.get_status() == 2:\n",
    "                additional_immune.append(sick)\n",
    "            elif sick.get_status() == 1:\n",
    "                new_sick.append(sick)\n",
    "        self.immune_agents = self.immune_agents + additional_immune\n",
    "        self.sick_agents = new_sick\n",
    "    def admin_check_number_agents(self):\n",
    "        calc_N = len(self.healthy_agents) + len(self.sick_agents) + len(self.immune_agents)\n",
    "        if calc_N != self.N:\n",
    "            raise Exception('Number of Agents not Conserved!')\n",
    "    def get_number_healthy(self):\n",
    "        return len(self.healthy_agents)\n",
    "    def get_number_sick(self):\n",
    "        return len(self.sick_agents)\n",
    "    def get_number_immune(self):\n",
    "        return len(self.immune_agents)\n",
    "    def run(self,days_to_run):\n",
    "        for d in range(days_to_run):\n",
    "            self.days_run = self.days_run + 1\n",
    "            self.perform_walk_step()\n",
    "            self.perform_infection_step()\n",
    "            self.update_days_for_sick()\n",
    "            self.results['healthy'].append(self.get_number_healthy())\n",
    "            self.results['sick'].append(self.get_number_sick())\n",
    "            self.results['immune'].append(self.get_number_immune())\n",
    "    def get_results(self):\n",
    "        return self.results\n",
    "    \n",
    "class Experiment(object):\n",
    "    def __init__(self,number_simulations,infect_chance,N,min_x,max_x,min_y,max_y,walk_method = 'Random_single_walk'):\n",
    "        self.min_x = min_x\n",
    "        self.max_x = max_x\n",
    "        self.min_y = min_y\n",
    "        self.max_y = max_y\n",
    "        self.N = N\n",
    "        self.number_simulations = number_simulations\n",
    "        self.infect_chance = infect_chance\n",
    "        self.simulations = []\n",
    "        self.days_run = 0\n",
    "        self.run_already = False\n",
    "        self.walk_method = walk_method\n",
    "        # for i in range(self.number_simulations):\n",
    "        #     a = Simulation(N=self.N,infect_chance=self.infect_chance,min_x=self.min_x,max_x=self.max_x,min_y=self.min_y,max_y=self.max_y)\n",
    "        #     # a.change_infect_chance(self.infect_chance)\n",
    "        #     # print(a.best_infect_chance)\n",
    "        #     self.simulations.append(a)\n",
    "    def get_number_simulations(self):\n",
    "        return self.number_simulations\n",
    "    def get_N(self):\n",
    "        return self.N\n",
    "    def run_func_for_parallel(self,days):\n",
    "        a = Simulation(N=self.N,infect_chance=self.infect_chance,min_x=self.min_x,max_x=self.max_x,min_y=self.min_y,max_y=self.max_y,walk_method = self.walk_method)\n",
    "        a.run(days)\n",
    "        return a\n",
    "    def run_forward_for_x_days(self,x):\n",
    "        if self.run_already == False:\n",
    "            self.days_run = x\n",
    "            self.run_already = True\n",
    "            simulations = Parallel(n_jobs=12)(delayed(self.run_func_for_parallel)(x) for a in tqdm(range(self.number_simulations)))\n",
    "            self.simulations = simulations\n",
    "    def get_results(self):\n",
    "        # print('Extracting Results')\n",
    "        results = {'healthy':[],'sick':[],'immune':[]}\n",
    "        for sim in self.simulations:\n",
    "            res = sim.get_results()\n",
    "            results['healthy'].append(res['healthy'])\n",
    "            results['sick'].append(res['sick'])\n",
    "            results['immune'].append(res['immune'])\n",
    "        results['healthy'] = np.array(results['healthy'])\n",
    "        results['sick'] = np.array(results['sick'])\n",
    "        results['immune'] = np.array(results['immune'])\n",
    "        return results\n",
    "    def get_results_average(self):\n",
    "        res = self.get_results()\n",
    "        healthy = np.sum(res['healthy'],axis=0)\n",
    "        sick = np.sum(res['sick'],axis=0)\n",
    "        immune = np.sum(res['immune'],axis=0)\n",
    "        total = healthy+sick+immune\n",
    "        return {'healthy':healthy/total,'sick':sick/total,'immune':immune/total}\n",
    "\n",
    "    def get_distribution_max_sick(self):\n",
    "        res = self.get_results()\n",
    "        sick = np.amax(res['sick'],axis=1)\n",
    "        return sick\n",
    "\n",
    "    def get_distribution_max_sick_day(self):\n",
    "        res = self.get_results()\n",
    "        sick_data = res['sick']\n",
    "        max_sicks = np.amax(res['sick'],axis=1)\n",
    "        max_sick_days = []\n",
    "        for i in range(len(max_sicks)):\n",
    "            max_sick_days.append(np.where(sick_data[i]==max_sicks[i])[0][0])\n",
    "        return np.array(max_sick_days)\n",
    "\n",
    "    def get_distribution_max_immune(self):\n",
    "        res = self.get_results()\n",
    "        immune = np.amax(res['immune'],axis=1)\n",
    "        return immune"
   ]
  },
  {
   "cell_type": "code",
   "execution_count": 3,
   "id": "1464c620-e6f8-43c3-82fc-c49e80b4b481",
   "metadata": {},
   "outputs": [
    {
     "data": {
      "text/plain": [
       "<matplotlib.legend.Legend at 0x7f72626c6670>"
      ]
     },
     "execution_count": 3,
     "metadata": {},
     "output_type": "execute_result"
    },
    {
     "data": {
      "image/png": "[encoded data removed]",
      "text/plain": [
       "<Figure size 1152x576 with 1 Axes>"
      ]
     },
     "metadata": {
      "needs_background": "light"
     },
     "output_type": "display_data"
    }
   ],
   "source": [
    "#Ok, everything works, now lets do some simulations\n",
    "\n",
    "a = Simulation(1000,0.2,-50,50,-50,50,'Random_single_walk')\n",
    "a.run(300)\n",
    "results = a.get_results()\n",
    "healthy = results['healthy']\n",
    "sick = results['sick']\n",
    "immune = results['immune']\n",
    "plt.figure(figsize=(16, 8))\n",
    "plt.plot(healthy,label='Healthy')\n",
    "plt.plot(sick,label='Sick')\n",
    "plt.plot(immune,label='Immune')\n",
    "plt.xlabel('Days')\n",
    "plt.ylabel('Number')\n",
    "plt.legend()"
   ]
  },
  {
   "cell_type": "code",
   "execution_count": 4,
   "id": "14ac5743-3f32-4f2e-848c-5affb54608a5",
   "metadata": {},
   "outputs": [
    {
     "name": "stderr",
     "output_type": "stream",
     "text": [
      "100%|██████████| 100/100 [11:52<00:00,  7.12s/it]\n"
     ]
    }
   ],
   "source": [
    "#Lets do a run of 100 simulations \n",
    "a = Experiment(100,(1/5),1000,-50,50,-50,50)\n",
    "# a.run_func_for_parallel(10,100)\n",
    "a.run_forward_for_x_days(300)\n",
    "result = a.get_results()"
   ]
  },
  {
   "cell_type": "code",
   "execution_count": 5,
   "id": "9f98f21c-5728-4428-842b-516a990d6d04",
   "metadata": {},
   "outputs": [
    {
     "data": {
      "text/plain": [
       "<matplotlib.legend.Legend at 0x7f7305351ca0>"
      ]
     },
     "execution_count": 5,
     "metadata": {},
     "output_type": "execute_result"
    },
    {
     "data": {
      "image/png": "[encoded data removed]",
      "text/plain": [
       "<Figure size 1152x576 with 1 Axes>"
      ]
     },
     "metadata": {
      "needs_background": "light"
     },
     "output_type": "display_data"
    }
   ],
   "source": [
    "exp_N1000 = a\n",
    "ave_results_1000 = exp_N1000.get_results_average()\n",
    "plt.figure(figsize=(16, 8))\n",
    "plt.plot(ave_results_1000['healthy'],label='Healthy')\n",
    "plt.plot(ave_results_1000['sick'],label='Sick')\n",
    "plt.plot(ave_results_1000['immune'],label='Immune')\n",
    "plt.xlabel('Days')\n",
    "plt.ylabel('Percentage')\n",
    "plt.legend()"
   ]
  },
  {
   "cell_type": "code",
   "execution_count": 6,
   "id": "bcdfb61c-7f51-46fd-ab58-8ec3246d1eff",
   "metadata": {},
   "outputs": [],
   "source": [
    "dist_max_sick_1000 = exp_N1000.get_distribution_max_sick()/exp_N1000.get_N()\n",
    "# print(exp_N1000.get_N())"
   ]
  },
  {
   "cell_type": "code",
   "execution_count": 7,
   "id": "a13db720-10ca-48af-ad22-54cd17a8f295",
   "metadata": {},
   "outputs": [
    {
     "data": {
      "text/plain": [
       "<matplotlib.legend.Legend at 0x7f73042f7760>"
      ]
     },
     "execution_count": 7,
     "metadata": {},
     "output_type": "execute_result"
    },
    {
     "data": {
      "image/png": "[encoded data removed]",
      "text/plain": [
       "<Figure size 1152x576 with 1 Axes>"
      ]
     },
     "metadata": {
      "needs_background": "light"
     },
     "output_type": "display_data"
    }
   ],
   "source": [
    "plt.figure(figsize=(16, 8))\n",
    "plot_histogram(dist_max_sick_1000,100,'Mean: %s, Std: %s'%(np.round(np.mean(dist_max_sick_1000),3),np.round(np.std(dist_max_sick_1000),3)),np.amin(dist_max_sick_1000),np.amax(dist_max_sick_1000))\n",
    "plt.title('Maximum Percentage Sick at once')\n",
    "plt.xlabel('Percentage Sick')\n",
    "plt.ylabel('Percentage of runs')\n",
    "plt.legend()"
   ]
  },
  {
   "cell_type": "code",
   "execution_count": 8,
   "id": "6e54bfa3-ba2a-4f9f-96cb-8c18aadf8e89",
   "metadata": {},
   "outputs": [
    {
     "data": {
      "text/plain": [
       "<matplotlib.legend.Legend at 0x7f7304205f40>"
      ]
     },
     "execution_count": 8,
     "metadata": {},
     "output_type": "execute_result"
    },
    {
     "data": {
      "image/png": "[encoded data removed]",
      "text/plain": [
       "<Figure size 1152x576 with 1 Axes>"
      ]
     },
     "metadata": {
      "needs_background": "light"
     },
     "output_type": "display_data"
    }
   ],
   "source": [
    "dist_day_max_sick_1000 = exp_N1000.get_distribution_max_sick_day()\n",
    "plt.figure(figsize=(16, 8))\n",
    "plot_histogram(dist_day_max_sick_1000,100,'Mean: %s, Std: %s'%(np.round(np.mean(dist_day_max_sick_1000),3),np.round(np.std(dist_day_max_sick_1000),3)),np.amin(dist_day_max_sick_1000),np.amax(dist_day_max_sick_1000))\n",
    "plt.title('Day where max sickness occurs')\n",
    "plt.xlabel('Day')\n",
    "plt.ylabel('Percentage of runs')\n",
    "plt.legend()"
   ]
  },
  {
   "cell_type": "code",
   "execution_count": 9,
   "id": "d2b873bc-a835-464a-a03d-28e77f5f3927",
   "metadata": {},
   "outputs": [
    {
     "name": "stderr",
     "output_type": "stream",
     "text": [
      "100%|██████████| 100/100 [37:19<00:00, 22.39s/it]\n"
     ]
    }
   ],
   "source": [
    "#Now lets try out simulations with larger N\n",
    "\n",
    "exp_N2000 = Experiment(100,(1/5),2000,-50,50,-50,50)\n",
    "# a.run_func_for_parallel(10,100)\n",
    "exp_N2000.run_forward_for_x_days(300)\n",
    "result = exp_N2000.get_results()"
   ]
  },
  {
   "cell_type": "code",
   "execution_count": 10,
   "id": "7bec3360-20ac-42f5-a436-7f640d9f7b09",
   "metadata": {},
   "outputs": [
    {
     "data": {
      "text/plain": [
       "<matplotlib.legend.Legend at 0x7f724d1afd90>"
      ]
     },
     "execution_count": 10,
     "metadata": {},
     "output_type": "execute_result"
    },
    {
     "data": {
      "image/png": "[encoded data removed]",
      "text/plain": [
       "<Figure size 1152x576 with 1 Axes>"
      ]
     },
     "metadata": {
      "needs_background": "light"
     },
     "output_type": "display_data"
    }
   ],
   "source": [
    "# exp_N1000 = a\n",
    "ave_results_2000 = exp_N2000.get_results_average()\n",
    "plt.figure(figsize=(16, 8))\n",
    "plt.plot(ave_results_2000['healthy'],label='Healthy')\n",
    "plt.plot(ave_results_2000['sick'],label='Sick')\n",
    "plt.plot(ave_results_2000['immune'],label='Immune')\n",
    "plt.xlabel('Days')\n",
    "plt.ylabel('Percentage')\n",
    "plt.legend()"
   ]
  },
  {
   "cell_type": "code",
   "execution_count": 11,
   "id": "1c92e5e5-cd7b-4444-8637-9005386fe36d",
   "metadata": {},
   "outputs": [
    {
     "data": {
      "text/plain": [
       "<matplotlib.legend.Legend at 0x7f73040e3610>"
      ]
     },
     "execution_count": 11,
     "metadata": {},
     "output_type": "execute_result"
    },
    {
     "data": {
      "image/png": "[encoded data removed]",
      "text/plain": [
       "<Figure size 1152x576 with 1 Axes>"
      ]
     },
     "metadata": {
      "needs_background": "light"
     },
     "output_type": "display_data"
    }
   ],
   "source": [
    "dist_max_sick_2000 = exp_N2000.get_distribution_max_sick()/exp_N2000.get_N()\n",
    "plt.figure(figsize=(16, 8))\n",
    "plot_histogram(dist_max_sick_2000,100,'Mean: %s, Std: %s'%(np.round(np.mean(dist_max_sick_2000),3),\n",
    "                                                           np.round(np.std(dist_max_sick_2000),3)),np.amin(dist_max_sick_2000),np.amax(dist_max_sick_2000))\n",
    "plt.title('Maximum Percentage Sick at once')\n",
    "plt.xlabel('Percentage Sick')\n",
    "plt.ylabel('Percentage of runs')\n",
    "plt.legend()"
   ]
  },
  {
   "cell_type": "code",
   "execution_count": 12,
   "id": "2e8693e1-0ba1-48ee-ad68-ad3651b60cb9",
   "metadata": {},
   "outputs": [
    {
     "data": {
      "text/plain": [
       "<matplotlib.legend.Legend at 0x7f724d1afe80>"
      ]
     },
     "execution_count": 12,
     "metadata": {},
     "output_type": "execute_result"
    },
    {
     "data": {
      "image/png": "[encoded data removed]",
      "text/plain": [
       "<Figure size 1152x576 with 1 Axes>"
      ]
     },
     "metadata": {
      "needs_background": "light"
     },
     "output_type": "display_data"
    }
   ],
   "source": [
    "dist_day_max_sick_2000 = exp_N2000.get_distribution_max_sick_day()\n",
    "plt.figure(figsize=(16, 8))\n",
    "plot_histogram(dist_day_max_sick_2000,100,'Mean: %s, Std: %s'%(np.round(np.mean(dist_day_max_sick_2000),3),\n",
    "                                                               np.round(np.std(dist_day_max_sick_2000),3)),np.amin(dist_day_max_sick_2000),np.amax(dist_day_max_sick_2000))\n",
    "plt.title('Day where max sickness occurs')\n",
    "plt.xlabel('Day')\n",
    "plt.ylabel('Percentage of runs')\n",
    "plt.legend()"
   ]
  },
  {
   "cell_type": "code",
   "execution_count": 13,
   "id": "ebcb9421-42c5-4ea9-beb5-606e97c5fc95",
   "metadata": {},
   "outputs": [
    {
     "name": "stderr",
     "output_type": "stream",
     "text": [
      "100%|██████████| 100/100 [13:29<00:00,  8.10s/it]\n"
     ]
    }
   ],
   "source": [
    "#What if we go back to 1000 people, but people wear masks? So the base chance for infecting someone is lower (halved in this experiment)\n",
    "exp_N1000_mask = Experiment(100,(0.1),1000,-50,50,-50,50)\n",
    "exp_N1000_mask.run_forward_for_x_days(300)\n",
    "# print(exp_N1000_mask.simulations[0])"
   ]
  },
  {
   "cell_type": "code",
   "execution_count": 14,
   "id": "18fac638-b661-4b78-a977-13cdb193e42b",
   "metadata": {},
   "outputs": [
    {
     "data": {
      "text/plain": [
       "<matplotlib.legend.Legend at 0x7f732c4c7cd0>"
      ]
     },
     "execution_count": 14,
     "metadata": {},
     "output_type": "execute_result"
    },
    {
     "data": {
      "image/png": "[encoded data removed]",
      "text/plain": [
       "<Figure size 1152x576 with 1 Axes>"
      ]
     },
     "metadata": {
      "needs_background": "light"
     },
     "output_type": "display_data"
    }
   ],
   "source": [
    "ave_results_1000_mask  = exp_N1000_mask.get_results_average()\n",
    "plt.figure(figsize=(16, 8))\n",
    "plt.plot(ave_results_1000_mask['healthy'],label='Healthy')\n",
    "plt.plot(ave_results_1000_mask['sick'],label='Sick')\n",
    "plt.plot(ave_results_1000_mask['immune'],label='Immune')\n",
    "plt.xlabel('Days')\n",
    "plt.ylabel('Percentage')\n",
    "plt.legend()"
   ]
  },
  {
   "cell_type": "code",
   "execution_count": 15,
   "id": "ba7883e0-2993-452c-a40a-9d3429e06095",
   "metadata": {},
   "outputs": [
    {
     "data": {
      "text/plain": [
       "<matplotlib.legend.Legend at 0x7f724b2278e0>"
      ]
     },
     "execution_count": 15,
     "metadata": {},
     "output_type": "execute_result"
    },
    {
     "data": {
      "image/png": "[encoded data removed]",
      "text/plain": [
       "<Figure size 1152x576 with 1 Axes>"
      ]
     },
     "metadata": {
      "needs_background": "light"
     },
     "output_type": "display_data"
    }
   ],
   "source": [
    "dist_max_sick_1000_mask = exp_N1000_mask.get_distribution_max_sick()/exp_N1000_mask.get_N()\n",
    "plt.figure(figsize=(16, 8))\n",
    "plot_histogram(dist_max_sick_1000_mask,100,'Mean: %s, Std: %s'%(np.round(np.mean(dist_max_sick_1000_mask),3),\n",
    "                                                                np.round(np.std(dist_max_sick_1000_mask),3)),np.amin(dist_max_sick_1000_mask),\n",
    "               np.amax(dist_max_sick_1000_mask))\n",
    "plt.title('Maximum Percentage Sick at once')\n",
    "plt.xlabel('Percentage Sick')\n",
    "plt.ylabel('Percentage of runs')\n",
    "plt.legend()"
   ]
  },
  {
   "cell_type": "code",
   "execution_count": 16,
   "id": "383e89f0-1e5b-47ff-a220-c02ca871abb3",
   "metadata": {},
   "outputs": [
    {
     "data": {
      "text/plain": [
       "<matplotlib.legend.Legend at 0x7f724cf6d670>"
      ]
     },
     "execution_count": 16,
     "metadata": {},
     "output_type": "execute_result"
    },
    {
     "data": {
      "image/png": "[encoded data removed]",
      "text/plain": [
       "<Figure size 1152x576 with 1 Axes>"
      ]
     },
     "metadata": {
      "needs_background": "light"
     },
     "output_type": "display_data"
    }
   ],
   "source": [
    "dist_day_max_sick_1000_mask = exp_N1000_mask.get_distribution_max_sick_day()\n",
    "plt.figure(figsize=(16, 8))\n",
    "plot_histogram(dist_day_max_sick_1000_mask,100,'Mean: %s, Std: %s'%(np.round(np.mean(dist_day_max_sick_1000_mask),3),\n",
    "                                                                    np.round(np.std(dist_day_max_sick_1000_mask),3)),np.amin(dist_day_max_sick_1000_mask),\n",
    "               np.amax(dist_day_max_sick_1000_mask))\n",
    "plt.title('Day where max sickness occurs')\n",
    "plt.xlabel('Day')\n",
    "plt.ylabel('Percentage of runs')\n",
    "plt.legend()"
   ]
  },
  {
   "cell_type": "code",
   "execution_count": 17,
   "id": "367fca52-b6a1-4bc1-afea-f52d18537c39",
   "metadata": {},
   "outputs": [
    {
     "name": "stderr",
     "output_type": "stream",
     "text": [
      "100%|██████████| 100/100 [12:14<00:00,  7.34s/it]\n"
     ]
    }
   ],
   "source": [
    "#What if we go back to 1000 people with no mask, but sick people are not allowed to walk?\n",
    "exp_N1000_sickstationary = Experiment(100,(0.2),1000,-50,50,-50,50,walk_method = 'Sick_become_stationary')\n",
    "exp_N1000_sickstationary.run_forward_for_x_days(300)\n",
    "# print(exp_N1000_mask.simulations[0])"
   ]
  },
  {
   "cell_type": "code",
   "execution_count": 18,
   "id": "1290cae3-f1bc-4390-9d6d-5cd8a4f65c78",
   "metadata": {},
   "outputs": [
    {
     "data": {
      "text/plain": [
       "<matplotlib.legend.Legend at 0x7f724925ee20>"
      ]
     },
     "execution_count": 18,
     "metadata": {},
     "output_type": "execute_result"
    },
    {
     "data": {
      "image/png": "[encoded data removed]",
      "text/plain": [
       "<Figure size 1152x576 with 1 Axes>"
      ]
     },
     "metadata": {
      "needs_background": "light"
     },
     "output_type": "display_data"
    }
   ],
   "source": [
    "ave_results_1000_sickstationary  = exp_N1000_sickstationary.get_results_average()\n",
    "plt.figure(figsize=(16, 8))\n",
    "plt.plot(ave_results_1000_sickstationary['healthy'],label='Healthy')\n",
    "plt.plot(ave_results_1000_sickstationary['sick'],label='Sick')\n",
    "plt.plot(ave_results_1000_sickstationary['immune'],label='Immune')\n",
    "plt.xlabel('Days')\n",
    "plt.ylabel('Percentage')\n",
    "plt.legend()"
   ]
  },
  {
   "cell_type": "code",
   "execution_count": 19,
   "id": "c2d96a7d-f8dc-4efb-abcc-2fea234ef07b",
   "metadata": {},
   "outputs": [
    {
     "data": {
      "text/plain": [
       "<matplotlib.legend.Legend at 0x7f724925eb80>"
      ]
     },
     "execution_count": 19,
     "metadata": {},
     "output_type": "execute_result"
    },
    {
     "data": {
      "image/png": "[encoded data removed]",
      "text/plain": [
       "<Figure size 1152x576 with 1 Axes>"
      ]
     },
     "metadata": {
      "needs_background": "light"
     },
     "output_type": "display_data"
    }
   ],
   "source": [
    "dist_max_sick_1000_sickstationary = exp_N1000_sickstationary.get_distribution_max_sick()/exp_N1000_sickstationary.get_N()\n",
    "plt.figure(figsize=(16, 8))\n",
    "plot_histogram(dist_max_sick_1000_sickstationary,100,'Mean: %s, Std: %s'%(np.round(np.mean(dist_max_sick_1000_sickstationary),3),\n",
    "                                                                np.round(np.std(dist_max_sick_1000_sickstationary),3)),np.amin(dist_max_sick_1000_sickstationary),\n",
    "               np.amax(dist_max_sick_1000_sickstationary))\n",
    "plt.title('Maximum Percentage Sick at once')\n",
    "plt.xlabel('Percentage Sick')\n",
    "plt.ylabel('Percentage of runs')\n",
    "plt.legend()"
   ]
  },
  {
   "cell_type": "code",
   "execution_count": 20,
   "id": "199ad99e-f93d-4864-a548-fb7c36a2f74b",
   "metadata": {},
   "outputs": [
    {
     "data": {
      "text/plain": [
       "<matplotlib.legend.Legend at 0x7f724afb7c40>"
      ]
     },
     "execution_count": 20,
     "metadata": {},
     "output_type": "execute_result"
    },
    {
     "data": {
      "image/png": "[encoded data removed]",
      "text/plain": [
       "<Figure size 1152x576 with 1 Axes>"
      ]
     },
     "metadata": {
      "needs_background": "light"
     },
     "output_type": "display_data"
    }
   ],
   "source": [
    "dist_day_max_sick_1000_sickstationary = exp_N1000_mask.get_distribution_max_sick_day()\n",
    "plt.figure(figsize=(16, 8))\n",
    "plot_histogram(dist_day_max_sick_1000_mask,100,'Mean: %s, Std: %s'%(np.round(np.mean(dist_day_max_sick_1000_mask),3),\n",
    "                                                                    np.round(np.std(dist_day_max_sick_1000_mask),3)),np.amin(dist_day_max_sick_1000_mask),\n",
    "               np.amax(dist_day_max_sick_1000_mask))\n",
    "plt.title('Day where max sickness occurs')\n",
    "plt.xlabel('Day')\n",
    "plt.ylabel('Percentage of runs')\n",
    "plt.legend()"
   ]
  },
  {
   "cell_type": "code",
   "execution_count": 4,
   "id": "12ef28aa-1651-45f9-a1fb-d0a4a2387f83",
   "metadata": {},
   "outputs": [
    {
     "name": "stdout",
     "output_type": "stream",
     "text": [
      "Doing N = 32 now\n"
     ]
    },
    {
     "name": "stderr",
     "output_type": "stream",
     "text": [
      "100%|██████████| 100/100 [00:00<00:00, 169.10it/s]\n"
     ]
    },
    {
     "name": "stdout",
     "output_type": "stream",
     "text": [
      "Doing N = 40 now\n"
     ]
    },
    {
     "name": "stderr",
     "output_type": "stream",
     "text": [
      "100%|██████████| 100/100 [00:00<00:00, 392.33it/s]\n"
     ]
    },
    {
     "name": "stdout",
     "output_type": "stream",
     "text": [
      "Doing N = 50 now\n"
     ]
    },
    {
     "name": "stderr",
     "output_type": "stream",
     "text": [
      "100%|██████████| 100/100 [00:00<00:00, 344.62it/s]\n"
     ]
    },
    {
     "name": "stdout",
     "output_type": "stream",
     "text": [
      "Doing N = 62 now\n"
     ]
    },
    {
     "name": "stderr",
     "output_type": "stream",
     "text": [
      "100%|██████████| 100/100 [00:00<00:00, 268.81it/s]\n"
     ]
    },
    {
     "name": "stdout",
     "output_type": "stream",
     "text": [
      "Doing N = 77 now\n"
     ]
    },
    {
     "name": "stderr",
     "output_type": "stream",
     "text": [
      "100%|██████████| 100/100 [00:00<00:00, 132.56it/s]\n"
     ]
    },
    {
     "name": "stdout",
     "output_type": "stream",
     "text": [
      "Doing N = 96 now\n"
     ]
    },
    {
     "name": "stderr",
     "output_type": "stream",
     "text": [
      "100%|██████████| 100/100 [00:00<00:00, 108.28it/s]\n"
     ]
    },
    {
     "name": "stdout",
     "output_type": "stream",
     "text": [
      "Doing N = 119 now\n"
     ]
    },
    {
     "name": "stderr",
     "output_type": "stream",
     "text": [
      "100%|██████████| 100/100 [00:01<00:00, 84.81it/s]\n"
     ]
    },
    {
     "name": "stdout",
     "output_type": "stream",
     "text": [
      "Doing N = 148 now\n"
     ]
    },
    {
     "name": "stderr",
     "output_type": "stream",
     "text": [
      "100%|██████████| 100/100 [00:01<00:00, 66.99it/s]\n"
     ]
    },
    {
     "name": "stdout",
     "output_type": "stream",
     "text": [
      "Doing N = 184 now\n"
     ]
    },
    {
     "name": "stderr",
     "output_type": "stream",
     "text": [
      "100%|██████████| 100/100 [00:01<00:00, 54.03it/s]\n"
     ]
    },
    {
     "name": "stdout",
     "output_type": "stream",
     "text": [
      "Doing N = 229 now\n"
     ]
    },
    {
     "name": "stderr",
     "output_type": "stream",
     "text": [
      "100%|██████████| 100/100 [00:03<00:00, 30.33it/s]\n"
     ]
    },
    {
     "name": "stdout",
     "output_type": "stream",
     "text": [
      "Doing N = 286 now\n"
     ]
    },
    {
     "name": "stderr",
     "output_type": "stream",
     "text": [
      "100%|██████████| 100/100 [00:04<00:00, 20.67it/s]\n"
     ]
    },
    {
     "name": "stdout",
     "output_type": "stream",
     "text": [
      "Doing N = 355 now\n"
     ]
    },
    {
     "name": "stderr",
     "output_type": "stream",
     "text": [
      "100%|██████████| 100/100 [00:08<00:00, 11.68it/s]\n"
     ]
    },
    {
     "name": "stdout",
     "output_type": "stream",
     "text": [
      "Doing N = 442 now\n"
     ]
    },
    {
     "name": "stderr",
     "output_type": "stream",
     "text": [
      "100%|██████████| 100/100 [00:21<00:00,  4.64it/s]\n"
     ]
    },
    {
     "name": "stdout",
     "output_type": "stream",
     "text": [
      "Doing N = 551 now\n"
     ]
    },
    {
     "name": "stderr",
     "output_type": "stream",
     "text": [
      "100%|██████████| 100/100 [01:18<00:00,  1.28it/s]\n"
     ]
    },
    {
     "name": "stdout",
     "output_type": "stream",
     "text": [
      "Doing N = 686 now\n"
     ]
    },
    {
     "name": "stderr",
     "output_type": "stream",
     "text": [
      "100%|██████████| 100/100 [02:46<00:00,  1.67s/it]\n"
     ]
    },
    {
     "name": "stdout",
     "output_type": "stream",
     "text": [
      "Doing N = 853 now\n"
     ]
    },
    {
     "name": "stderr",
     "output_type": "stream",
     "text": [
      "100%|██████████| 100/100 [04:05<00:00,  2.46s/it]\n"
     ]
    },
    {
     "name": "stdout",
     "output_type": "stream",
     "text": [
      "Doing N = 1062 now\n"
     ]
    },
    {
     "name": "stderr",
     "output_type": "stream",
     "text": [
      "100%|██████████| 100/100 [06:00<00:00,  3.60s/it]\n"
     ]
    },
    {
     "name": "stdout",
     "output_type": "stream",
     "text": [
      "Doing N = 1322 now\n"
     ]
    },
    {
     "name": "stderr",
     "output_type": "stream",
     "text": [
      "100%|██████████| 100/100 [08:34<00:00,  5.15s/it]\n"
     ]
    },
    {
     "name": "stdout",
     "output_type": "stream",
     "text": [
      "Doing N = 1645 now\n"
     ]
    },
    {
     "name": "stderr",
     "output_type": "stream",
     "text": [
      "100%|██████████| 100/100 [12:22<00:00,  7.43s/it]\n"
     ]
    },
    {
     "name": "stdout",
     "output_type": "stream",
     "text": [
      "Doing N = 2048 now\n"
     ]
    },
    {
     "name": "stderr",
     "output_type": "stream",
     "text": [
      "100%|██████████| 100/100 [17:51<00:00, 10.72s/it]\n"
     ]
    }
   ],
   "source": [
    "#Now, let us examine the results over a range of N, to see if there is any density phase transition.\n",
    "Ns = np.round(np.logspace(5,11,num=20,base=2))\n",
    "all_N_experiments_more = []\n",
    "for i in Ns:\n",
    "    thisN = int(i)\n",
    "    print('Doing N = %s now'%(thisN))\n",
    "    a = Experiment(100,(1/5),thisN,-50,50,-50,50,walk_method='Random_single_walk')\n",
    "    # a.run_func_for_parallel(10,100)\n",
    "    a.run_forward_for_x_days(300)\n",
    "    all_N_experiments_more.append(a)"
   ]
  },
  {
   "cell_type": "code",
   "execution_count": 5,
   "id": "712c8be4-c53a-46fe-8415-0dee76e04851",
   "metadata": {},
   "outputs": [
    {
     "data": {
      "text/plain": [
       "Text(0, 0.5, 'Ending Percentage')"
      ]
     },
     "execution_count": 5,
     "metadata": {},
     "output_type": "execute_result"
    },
    {
     "data": {
      "image/png": "[encoded data removed]",
      "text/plain": [
       "<Figure size 1152x576 with 1 Axes>"
      ]
     },
     "metadata": {
      "needs_background": "light"
     },
     "output_type": "display_data"
    }
   ],
   "source": [
    "ending_percentage_healthy = []\n",
    "ending_percentage_immune = []\n",
    "for b in all_N_experiments_more:\n",
    "    ending_percentage_healthy.append(b.get_results_average()['healthy'][-1])\n",
    "    ending_percentage_immune.append(b.get_results_average()['immune'][-1])\n",
    "plt.figure(figsize=(16, 8))\n",
    "plt.plot(np.log2(Ns),ending_percentage_healthy,label='Ending Percentage Uninfected')\n",
    "# plt.plot(np.log2(Ns),ending_percentage_healthy,label='Ending Percentage Uninfected')\n",
    "plt.xlabel('Log 2 (N)')\n",
    "plt.legend()\n",
    "plt.ylabel('Ending Percentage')"
   ]
  },
  {
   "cell_type": "code",
   "execution_count": 8,
   "id": "9c0674f9-c1c6-41db-b780-0339dd97b32a",
   "metadata": {},
   "outputs": [
    {
     "data": {
      "text/plain": [
       "Text(0, 0.5, 'Maximum Percentage')"
      ]
     },
     "execution_count": 8,
     "metadata": {},
     "output_type": "execute_result"
    },
    {
     "data": {
      "image/png": "[encoded data removed]",
      "text/plain": [
       "<Figure size 1152x576 with 1 Axes>"
      ]
     },
     "metadata": {
      "needs_background": "light"
     },
     "output_type": "display_data"
    }
   ],
   "source": [
    "max_percentage_sickness = []\n",
    "for b in all_N_experiments_more:\n",
    "    max_percentage_sickness.append(np.max(b.get_distribution_max_sick()/b.get_N()))\n",
    "plt.figure(figsize=(16, 8))\n",
    "plt.plot(np.log2(Ns),max_percentage_sickness,label='Maximum Percentage Sick')\n",
    "# plt.plot(np.log2(Ns),ending_percentage_healthy,label='Ending Percentage Uninfected')\n",
    "plt.xlabel('Log 2 (N)')\n",
    "plt.legend()\n",
    "plt.ylabel('Maximum Percentage')"
   ]
  },
  {
   "cell_type": "code",
   "execution_count": 6,
   "id": "a2706067-6a35-4cab-9f05-4bdd98508a51",
   "metadata": {},
   "outputs": [
    {
     "name": "stdout",
     "output_type": "stream",
     "text": [
      "Doing N = 32 now\n"
     ]
    },
    {
     "name": "stderr",
     "output_type": "stream",
     "text": [
      "100%|██████████| 100/100 [00:00<00:00, 495.94it/s]\n"
     ]
    },
    {
     "name": "stdout",
     "output_type": "stream",
     "text": [
      "Doing N = 40 now\n"
     ]
    },
    {
     "name": "stderr",
     "output_type": "stream",
     "text": [
      "100%|██████████| 100/100 [00:00<00:00, 402.97it/s]\n"
     ]
    },
    {
     "name": "stdout",
     "output_type": "stream",
     "text": [
      "Doing N = 50 now\n"
     ]
    },
    {
     "name": "stderr",
     "output_type": "stream",
     "text": [
      "100%|██████████| 100/100 [00:00<00:00, 328.46it/s]\n"
     ]
    },
    {
     "name": "stdout",
     "output_type": "stream",
     "text": [
      "Doing N = 62 now\n"
     ]
    },
    {
     "name": "stderr",
     "output_type": "stream",
     "text": [
      "100%|██████████| 100/100 [00:00<00:00, 278.91it/s]\n"
     ]
    },
    {
     "name": "stdout",
     "output_type": "stream",
     "text": [
      "Doing N = 77 now\n"
     ]
    },
    {
     "name": "stderr",
     "output_type": "stream",
     "text": [
      "100%|██████████| 100/100 [00:00<00:00, 136.36it/s]\n"
     ]
    },
    {
     "name": "stdout",
     "output_type": "stream",
     "text": [
      "Doing N = 96 now\n"
     ]
    },
    {
     "name": "stderr",
     "output_type": "stream",
     "text": [
      "100%|██████████| 100/100 [00:00<00:00, 108.50it/s]\n"
     ]
    },
    {
     "name": "stdout",
     "output_type": "stream",
     "text": [
      "Doing N = 119 now\n"
     ]
    },
    {
     "name": "stderr",
     "output_type": "stream",
     "text": [
      "100%|██████████| 100/100 [00:01<00:00, 87.61it/s]\n"
     ]
    },
    {
     "name": "stdout",
     "output_type": "stream",
     "text": [
      "Doing N = 148 now\n"
     ]
    },
    {
     "name": "stderr",
     "output_type": "stream",
     "text": [
      "100%|██████████| 100/100 [00:01<00:00, 72.35it/s]\n"
     ]
    },
    {
     "name": "stdout",
     "output_type": "stream",
     "text": [
      "Doing N = 184 now\n"
     ]
    },
    {
     "name": "stderr",
     "output_type": "stream",
     "text": [
      "100%|██████████| 100/100 [00:01<00:00, 56.04it/s]\n"
     ]
    },
    {
     "name": "stdout",
     "output_type": "stream",
     "text": [
      "Doing N = 229 now\n"
     ]
    },
    {
     "name": "stderr",
     "output_type": "stream",
     "text": [
      "100%|██████████| 100/100 [00:02<00:00, 36.14it/s]\n"
     ]
    },
    {
     "name": "stdout",
     "output_type": "stream",
     "text": [
      "Doing N = 286 now\n"
     ]
    },
    {
     "name": "stderr",
     "output_type": "stream",
     "text": [
      "100%|██████████| 100/100 [00:03<00:00, 26.86it/s]\n"
     ]
    },
    {
     "name": "stdout",
     "output_type": "stream",
     "text": [
      "Doing N = 355 now\n"
     ]
    },
    {
     "name": "stderr",
     "output_type": "stream",
     "text": [
      "100%|██████████| 100/100 [00:05<00:00, 19.13it/s]\n"
     ]
    },
    {
     "name": "stdout",
     "output_type": "stream",
     "text": [
      "Doing N = 442 now\n"
     ]
    },
    {
     "name": "stderr",
     "output_type": "stream",
     "text": [
      "100%|██████████| 100/100 [00:08<00:00, 11.63it/s]\n"
     ]
    },
    {
     "name": "stdout",
     "output_type": "stream",
     "text": [
      "Doing N = 551 now\n"
     ]
    },
    {
     "name": "stderr",
     "output_type": "stream",
     "text": [
      "100%|██████████| 100/100 [00:19<00:00,  5.01it/s]\n"
     ]
    },
    {
     "name": "stdout",
     "output_type": "stream",
     "text": [
      "Doing N = 686 now\n"
     ]
    },
    {
     "name": "stderr",
     "output_type": "stream",
     "text": [
      "100%|██████████| 100/100 [01:23<00:00,  1.20it/s]\n"
     ]
    },
    {
     "name": "stdout",
     "output_type": "stream",
     "text": [
      "Doing N = 853 now\n"
     ]
    },
    {
     "name": "stderr",
     "output_type": "stream",
     "text": [
      "100%|██████████| 100/100 [03:48<00:00,  2.28s/it]\n"
     ]
    },
    {
     "name": "stdout",
     "output_type": "stream",
     "text": [
      "Doing N = 1062 now\n"
     ]
    },
    {
     "name": "stderr",
     "output_type": "stream",
     "text": [
      "100%|██████████| 100/100 [06:37<00:00,  3.97s/it]\n"
     ]
    },
    {
     "name": "stdout",
     "output_type": "stream",
     "text": [
      "Doing N = 1322 now\n"
     ]
    },
    {
     "name": "stderr",
     "output_type": "stream",
     "text": [
      "100%|██████████| 100/100 [09:55<00:00,  5.96s/it]\n"
     ]
    },
    {
     "name": "stdout",
     "output_type": "stream",
     "text": [
      "Doing N = 1645 now\n"
     ]
    },
    {
     "name": "stderr",
     "output_type": "stream",
     "text": [
      "100%|██████████| 100/100 [14:17<00:00,  8.58s/it]\n"
     ]
    },
    {
     "name": "stdout",
     "output_type": "stream",
     "text": [
      "Doing N = 2048 now\n"
     ]
    },
    {
     "name": "stderr",
     "output_type": "stream",
     "text": [
      "100%|██████████| 100/100 [20:45<00:00, 12.46s/it]\n"
     ]
    }
   ],
   "source": [
    "#Perform same experiments but for wearing mask\n",
    "Ns = np.round(np.logspace(5,11,num=20,base=2))\n",
    "all_N_experiments_mask_more = []\n",
    "for i in Ns:\n",
    "    thisN = int(i)\n",
    "    print('Doing N = %s now'%(thisN))\n",
    "    a = Experiment(100,(0.1),thisN,-50,50,-50,50,walk_method='Random_single_walk')\n",
    "    # a.run_func_for_parallel(10,100)\n",
    "    a.run_forward_for_x_days(300)\n",
    "    all_N_experiments_mask_more.append(a)"
   ]
  },
  {
   "cell_type": "code",
   "execution_count": 59,
   "id": "c4fc4b79-12db-48df-bc4b-955daeaa9acb",
   "metadata": {},
   "outputs": [
    {
     "data": {
      "text/plain": [
       "Text(0, 0.5, 'Ending Percentage')"
      ]
     },
     "execution_count": 59,
     "metadata": {},
     "output_type": "execute_result"
    },
    {
     "data": {
      "image/png": "[encoded data removed]",
      "text/plain": [
       "<Figure size 1152x576 with 1 Axes>"
      ]
     },
     "metadata": {
      "needs_background": "light"
     },
     "output_type": "display_data"
    }
   ],
   "source": [
    "ending_percentage_healthy_mask = []\n",
    "ending_percentage_immune_mask = []\n",
    "for b in all_N_experiments_mask_more:\n",
    "    ending_percentage_healthy_mask.append(b.get_results_average()['healthy'][-1])\n",
    "    ending_percentage_immune_mask.append(b.get_results_average()['immune'][-1])\n",
    "plt.figure(figsize=(16, 8))\n",
    "plt.plot(np.log2(Ns),ending_percentage_healthy,label='Ending Percentage Uninfected original')\n",
    "plt.plot(np.log2(Ns),ending_percentage_healthy_mask,label='Ending Percentage Uninfected with mask')\n",
    "# plt.plot(np.log2(Ns),ending_percentage_healthy,label='Ending Percentage Uninfected')\n",
    "plt.xlabel('Log 2 (N)')\n",
    "plt.legend()\n",
    "plt.ylabel('Ending Percentage')"
   ]
  },
  {
   "cell_type": "code",
   "execution_count": 9,
   "id": "1ff88bf2-bb18-480b-b916-a03e17f0809d",
   "metadata": {},
   "outputs": [
    {
     "data": {
      "text/plain": [
       "Text(0, 0.5, 'Maximum Percentage')"
      ]
     },
     "execution_count": 9,
     "metadata": {},
     "output_type": "execute_result"
    },
    {
     "data": {
      "image/png": "[encoded data removed]",
      "text/plain": [
       "<Figure size 1152x576 with 1 Axes>"
      ]
     },
     "metadata": {
      "needs_background": "light"
     },
     "output_type": "display_data"
    }
   ],
   "source": [
    "max_percentage_sickness_mask = []\n",
    "for b in all_N_experiments_mask_more:\n",
    "    max_percentage_sickness_mask.append(np.max(b.get_distribution_max_sick()/b.get_N()))\n",
    "plt.figure(figsize=(16, 8))\n",
    "plt.plot(np.log2(Ns),max_percentage_sickness,label='Maximum Percentage Sick')\n",
    "plt.plot(np.log2(Ns),max_percentage_sickness_mask,label='Maximum Percentage Sick with mask')\n",
    "# plt.plot(np.log2(Ns),ending_percentage_healthy,label='Ending Percentage Uninfected')\n",
    "plt.xlabel('Log 2 (N)')\n",
    "plt.legend()\n",
    "plt.ylabel('Maximum Percentage')"
   ]
  },
  {
   "cell_type": "code",
   "execution_count": 3,
   "id": "c85edf3f-784c-40e1-b01b-f990f221210e",
   "metadata": {},
   "outputs": [
    {
     "name": "stderr",
     "output_type": "stream",
     "text": [
      "  0%|          | 0/50 [00:00<?, ?it/s]"
     ]
    },
    {
     "name": "stdout",
     "output_type": "stream",
     "text": [
      "Doing N = 32, Chance = 0.0 now\n"
     ]
    },
    {
     "name": "stderr",
     "output_type": "stream",
     "text": [
      "100%|██████████| 50/50 [00:00<00:00, 51.84it/s]\n",
      "100%|██████████| 50/50 [00:00<00:00, 297.35it/s]\n"
     ]
    },
    {
     "name": "stdout",
     "output_type": "stream",
     "text": [
      "Doing N = 32, Chance = 0.05555555555555555 now\n"
     ]
    },
    {
     "name": "stderr",
     "output_type": "stream",
     "text": [
      "100%|██████████| 50/50 [00:00<00:00, 310.28it/s]"
     ]
    },
    {
     "name": "stdout",
     "output_type": "stream",
     "text": [
      "Doing N = 32, Chance = 0.1111111111111111 now\n"
     ]
    },
    {
     "name": "stderr",
     "output_type": "stream",
     "text": [
      "\n",
      "100%|██████████| 50/50 [00:00<00:00, 304.60it/s]"
     ]
    },
    {
     "name": "stdout",
     "output_type": "stream",
     "text": [
      "Doing N = 32, Chance = 0.16666666666666666 now\n"
     ]
    },
    {
     "name": "stderr",
     "output_type": "stream",
     "text": [
      "\n",
      "100%|██████████| 50/50 [00:00<00:00, 275.99it/s]"
     ]
    },
    {
     "name": "stdout",
     "output_type": "stream",
     "text": [
      "Doing N = 32, Chance = 0.2222222222222222 now\n"
     ]
    },
    {
     "name": "stderr",
     "output_type": "stream",
     "text": [
      "\n",
      "100%|██████████| 50/50 [00:00<00:00, 310.28it/s]"
     ]
    },
    {
     "name": "stdout",
     "output_type": "stream",
     "text": [
      "Doing N = 32, Chance = 0.2777777777777778 now\n"
     ]
    },
    {
     "name": "stderr",
     "output_type": "stream",
     "text": [
      "\n",
      "100%|██████████| 50/50 [00:00<00:00, 304.60it/s]"
     ]
    },
    {
     "name": "stdout",
     "output_type": "stream",
     "text": [
      "Doing N = 32, Chance = 0.3333333333333333 now\n"
     ]
    },
    {
     "name": "stderr",
     "output_type": "stream",
     "text": [
      "\n",
      "100%|██████████| 50/50 [00:00<00:00, 293.85it/s]"
     ]
    },
    {
     "name": "stdout",
     "output_type": "stream",
     "text": [
      "Doing N = 32, Chance = 0.38888888888888884 now\n"
     ]
    },
    {
     "name": "stderr",
     "output_type": "stream",
     "text": [
      "\n",
      "100%|██████████| 50/50 [00:00<00:00, 308.36it/s]"
     ]
    },
    {
     "name": "stdout",
     "output_type": "stream",
     "text": [
      "Doing N = 32, Chance = 0.4444444444444444 now\n"
     ]
    },
    {
     "name": "stderr",
     "output_type": "stream",
     "text": [
      "\n",
      "100%|██████████| 50/50 [00:00<00:00, 299.13it/s]"
     ]
    },
    {
     "name": "stdout",
     "output_type": "stream",
     "text": [
      "Doing N = 32, Chance = 0.5 now\n"
     ]
    },
    {
     "name": "stderr",
     "output_type": "stream",
     "text": [
      "\n",
      " 48%|████▊     | 24/50 [00:00<00:00, 219.98it/s]"
     ]
    },
    {
     "name": "stdout",
     "output_type": "stream",
     "text": [
      "Doing N = 51, Chance = 0.0 now\n"
     ]
    },
    {
     "name": "stderr",
     "output_type": "stream",
     "text": [
      "100%|██████████| 50/50 [00:00<00:00, 241.33it/s]\n",
      " 48%|████▊     | 24/50 [00:00<00:00, 219.98it/s]"
     ]
    },
    {
     "name": "stdout",
     "output_type": "stream",
     "text": [
      "Doing N = 51, Chance = 0.05555555555555555 now\n"
     ]
    },
    {
     "name": "stderr",
     "output_type": "stream",
     "text": [
      "100%|██████████| 50/50 [00:00<00:00, 241.33it/s]\n",
      " 48%|████▊     | 24/50 [00:00<00:00, 216.02it/s]"
     ]
    },
    {
     "name": "stdout",
     "output_type": "stream",
     "text": [
      "Doing N = 51, Chance = 0.1111111111111111 now\n"
     ]
    },
    {
     "name": "stderr",
     "output_type": "stream",
     "text": [
      "100%|██████████| 50/50 [00:00<00:00, 253.83it/s]\n",
      " 48%|████▊     | 24/50 [00:00<00:00, 230.56it/s]"
     ]
    },
    {
     "name": "stdout",
     "output_type": "stream",
     "text": [
      "Doing N = 51, Chance = 0.16666666666666666 now\n"
     ]
    },
    {
     "name": "stderr",
     "output_type": "stream",
     "text": [
      "100%|██████████| 50/50 [00:00<00:00, 253.58it/s]\n",
      " 48%|████▊     | 24/50 [00:00<00:00, 217.98it/s]"
     ]
    },
    {
     "name": "stdout",
     "output_type": "stream",
     "text": [
      "Doing N = 51, Chance = 0.2222222222222222 now\n"
     ]
    },
    {
     "name": "stderr",
     "output_type": "stream",
     "text": [
      "100%|██████████| 50/50 [00:00<00:00, 225.52it/s]\n",
      " 48%|████▊     | 24/50 [00:00<00:00, 212.20it/s]"
     ]
    },
    {
     "name": "stdout",
     "output_type": "stream",
     "text": [
      "Doing N = 51, Chance = 0.2777777777777778 now\n"
     ]
    },
    {
     "name": "stderr",
     "output_type": "stream",
     "text": [
      "100%|██████████| 50/50 [00:00<00:00, 231.27it/s]\n",
      " 48%|████▊     | 24/50 [00:00<00:00, 203.21it/s]"
     ]
    },
    {
     "name": "stdout",
     "output_type": "stream",
     "text": [
      "Doing N = 51, Chance = 0.3333333333333333 now\n"
     ]
    },
    {
     "name": "stderr",
     "output_type": "stream",
     "text": [
      "100%|██████████| 50/50 [00:00<00:00, 226.04it/s]\n",
      " 48%|████▊     | 24/50 [00:00<00:00, 216.06it/s]"
     ]
    },
    {
     "name": "stdout",
     "output_type": "stream",
     "text": [
      "Doing N = 51, Chance = 0.38888888888888884 now\n"
     ]
    },
    {
     "name": "stderr",
     "output_type": "stream",
     "text": [
      "100%|██████████| 50/50 [00:00<00:00, 252.47it/s]\n",
      " 48%|████▊     | 24/50 [00:00<00:00, 217.98it/s]"
     ]
    },
    {
     "name": "stdout",
     "output_type": "stream",
     "text": [
      "Doing N = 51, Chance = 0.4444444444444444 now\n"
     ]
    },
    {
     "name": "stderr",
     "output_type": "stream",
     "text": [
      "100%|██████████| 50/50 [00:00<00:00, 243.68it/s]\n",
      " 48%|████▊     | 24/50 [00:00<00:00, 222.02it/s]"
     ]
    },
    {
     "name": "stdout",
     "output_type": "stream",
     "text": [
      "Doing N = 51, Chance = 0.5 now\n"
     ]
    },
    {
     "name": "stderr",
     "output_type": "stream",
     "text": [
      "100%|██████████| 50/50 [00:00<00:00, 235.64it/s]\n",
      " 48%|████▊     | 24/50 [00:00<00:00, 141.88it/s]"
     ]
    },
    {
     "name": "stdout",
     "output_type": "stream",
     "text": [
      "Doing N = 81, Chance = 0.0 now\n"
     ]
    },
    {
     "name": "stderr",
     "output_type": "stream",
     "text": [
      "100%|██████████| 50/50 [00:00<00:00, 151.84it/s]\n",
      " 48%|████▊     | 24/50 [00:00<00:00, 146.21it/s]"
     ]
    },
    {
     "name": "stdout",
     "output_type": "stream",
     "text": [
      "Doing N = 81, Chance = 0.05555555555555555 now\n"
     ]
    },
    {
     "name": "stderr",
     "output_type": "stream",
     "text": [
      "100%|██████████| 50/50 [00:00<00:00, 152.30it/s]\n",
      " 48%|████▊     | 24/50 [00:00<00:00, 142.73it/s]"
     ]
    },
    {
     "name": "stdout",
     "output_type": "stream",
     "text": [
      "Doing N = 81, Chance = 0.1111111111111111 now\n"
     ]
    },
    {
     "name": "stderr",
     "output_type": "stream",
     "text": [
      "100%|██████████| 50/50 [00:00<00:00, 138.76it/s]\n",
      " 48%|████▊     | 24/50 [00:00<00:00, 141.05it/s]"
     ]
    },
    {
     "name": "stdout",
     "output_type": "stream",
     "text": [
      "Doing N = 81, Chance = 0.16666666666666666 now\n"
     ]
    },
    {
     "name": "stderr",
     "output_type": "stream",
     "text": [
      "100%|██████████| 50/50 [00:00<00:00, 145.64it/s]\n",
      " 48%|████▊     | 24/50 [00:00<00:00, 141.88it/s]"
     ]
    },
    {
     "name": "stdout",
     "output_type": "stream",
     "text": [
      "Doing N = 81, Chance = 0.2222222222222222 now\n"
     ]
    },
    {
     "name": "stderr",
     "output_type": "stream",
     "text": [
      "100%|██████████| 50/50 [00:00<00:00, 153.71it/s]\n",
      " 48%|████▊     | 24/50 [00:00<00:00, 134.33it/s]"
     ]
    },
    {
     "name": "stdout",
     "output_type": "stream",
     "text": [
      "Doing N = 81, Chance = 0.2777777777777778 now\n"
     ]
    },
    {
     "name": "stderr",
     "output_type": "stream",
     "text": [
      "100%|██████████| 50/50 [00:00<00:00, 148.32it/s]\n",
      " 48%|████▊     | 24/50 [00:00<00:00, 140.63it/s]"
     ]
    },
    {
     "name": "stdout",
     "output_type": "stream",
     "text": [
      "Doing N = 81, Chance = 0.3333333333333333 now\n"
     ]
    },
    {
     "name": "stderr",
     "output_type": "stream",
     "text": [
      "100%|██████████| 50/50 [00:00<00:00, 151.95it/s]\n",
      "  0%|          | 0/50 [00:00<?, ?it/s]"
     ]
    },
    {
     "name": "stdout",
     "output_type": "stream",
     "text": [
      "Doing N = 81, Chance = 0.38888888888888884 now\n"
     ]
    },
    {
     "name": "stderr",
     "output_type": "stream",
     "text": [
      "100%|██████████| 50/50 [00:00<00:00, 144.80it/s]\n",
      " 48%|████▊     | 24/50 [00:00<00:00, 144.07it/s]"
     ]
    },
    {
     "name": "stdout",
     "output_type": "stream",
     "text": [
      "Doing N = 81, Chance = 0.4444444444444444 now\n"
     ]
    },
    {
     "name": "stderr",
     "output_type": "stream",
     "text": [
      "100%|██████████| 50/50 [00:00<00:00, 142.55it/s]\n",
      "  0%|          | 0/50 [00:00<?, ?it/s]"
     ]
    },
    {
     "name": "stdout",
     "output_type": "stream",
     "text": [
      "Doing N = 81, Chance = 0.5 now\n"
     ]
    },
    {
     "name": "stderr",
     "output_type": "stream",
     "text": [
      "100%|██████████| 50/50 [00:00<00:00, 143.55it/s]\n",
      "  0%|          | 0/50 [00:00<?, ?it/s]"
     ]
    },
    {
     "name": "stdout",
     "output_type": "stream",
     "text": [
      "Doing N = 128, Chance = 0.0 now\n"
     ]
    },
    {
     "name": "stderr",
     "output_type": "stream",
     "text": [
      "100%|██████████| 50/50 [00:00<00:00, 64.54it/s]\n",
      "  0%|          | 0/50 [00:00<?, ?it/s]"
     ]
    },
    {
     "name": "stdout",
     "output_type": "stream",
     "text": [
      "Doing N = 128, Chance = 0.05555555555555555 now\n"
     ]
    },
    {
     "name": "stderr",
     "output_type": "stream",
     "text": [
      "100%|██████████| 50/50 [00:00<00:00, 65.04it/s]\n",
      "  0%|          | 0/50 [00:00<?, ?it/s]"
     ]
    },
    {
     "name": "stdout",
     "output_type": "stream",
     "text": [
      "Doing N = 128, Chance = 0.1111111111111111 now\n"
     ]
    },
    {
     "name": "stderr",
     "output_type": "stream",
     "text": [
      "100%|██████████| 50/50 [00:00<00:00, 64.21it/s]\n",
      "  0%|          | 0/50 [00:00<?, ?it/s]"
     ]
    },
    {
     "name": "stdout",
     "output_type": "stream",
     "text": [
      "Doing N = 128, Chance = 0.16666666666666666 now\n"
     ]
    },
    {
     "name": "stderr",
     "output_type": "stream",
     "text": [
      "100%|██████████| 50/50 [00:00<00:00, 64.39it/s]\n",
      "  0%|          | 0/50 [00:00<?, ?it/s]"
     ]
    },
    {
     "name": "stdout",
     "output_type": "stream",
     "text": [
      "Doing N = 128, Chance = 0.2222222222222222 now\n"
     ]
    },
    {
     "name": "stderr",
     "output_type": "stream",
     "text": [
      "100%|██████████| 50/50 [00:00<00:00, 62.60it/s]\n",
      "  0%|          | 0/50 [00:00<?, ?it/s]"
     ]
    },
    {
     "name": "stdout",
     "output_type": "stream",
     "text": [
      "Doing N = 128, Chance = 0.2777777777777778 now\n"
     ]
    },
    {
     "name": "stderr",
     "output_type": "stream",
     "text": [
      "100%|██████████| 50/50 [00:00<00:00, 60.62it/s]\n",
      "  0%|          | 0/50 [00:00<?, ?it/s]"
     ]
    },
    {
     "name": "stdout",
     "output_type": "stream",
     "text": [
      "Doing N = 128, Chance = 0.3333333333333333 now\n"
     ]
    },
    {
     "name": "stderr",
     "output_type": "stream",
     "text": [
      "100%|██████████| 50/50 [00:00<00:00, 59.26it/s]\n",
      "  0%|          | 0/50 [00:00<?, ?it/s]"
     ]
    },
    {
     "name": "stdout",
     "output_type": "stream",
     "text": [
      "Doing N = 128, Chance = 0.38888888888888884 now\n"
     ]
    },
    {
     "name": "stderr",
     "output_type": "stream",
     "text": [
      "100%|██████████| 50/50 [00:00<00:00, 61.82it/s]\n",
      "  0%|          | 0/50 [00:00<?, ?it/s]"
     ]
    },
    {
     "name": "stdout",
     "output_type": "stream",
     "text": [
      "Doing N = 128, Chance = 0.4444444444444444 now\n"
     ]
    },
    {
     "name": "stderr",
     "output_type": "stream",
     "text": [
      "100%|██████████| 50/50 [00:00<00:00, 61.63it/s]\n",
      "  0%|          | 0/50 [00:00<?, ?it/s]"
     ]
    },
    {
     "name": "stdout",
     "output_type": "stream",
     "text": [
      "Doing N = 128, Chance = 0.5 now\n"
     ]
    },
    {
     "name": "stderr",
     "output_type": "stream",
     "text": [
      "100%|██████████| 50/50 [00:00<00:00, 60.96it/s]\n",
      "  0%|          | 0/50 [00:00<?, ?it/s]"
     ]
    },
    {
     "name": "stdout",
     "output_type": "stream",
     "text": [
      "Doing N = 203, Chance = 0.0 now\n"
     ]
    },
    {
     "name": "stderr",
     "output_type": "stream",
     "text": [
      "100%|██████████| 50/50 [00:01<00:00, 42.70it/s]\n",
      "  0%|          | 0/50 [00:00<?, ?it/s]"
     ]
    },
    {
     "name": "stdout",
     "output_type": "stream",
     "text": [
      "Doing N = 203, Chance = 0.05555555555555555 now\n"
     ]
    },
    {
     "name": "stderr",
     "output_type": "stream",
     "text": [
      "100%|██████████| 50/50 [00:01<00:00, 41.87it/s]\n",
      "  0%|          | 0/50 [00:00<?, ?it/s]"
     ]
    },
    {
     "name": "stdout",
     "output_type": "stream",
     "text": [
      "Doing N = 203, Chance = 0.1111111111111111 now\n"
     ]
    },
    {
     "name": "stderr",
     "output_type": "stream",
     "text": [
      "100%|██████████| 50/50 [00:01<00:00, 40.48it/s]\n",
      "  0%|          | 0/50 [00:00<?, ?it/s]"
     ]
    },
    {
     "name": "stdout",
     "output_type": "stream",
     "text": [
      "Doing N = 203, Chance = 0.16666666666666666 now\n"
     ]
    },
    {
     "name": "stderr",
     "output_type": "stream",
     "text": [
      "100%|██████████| 50/50 [00:01<00:00, 40.08it/s]\n",
      "  0%|          | 0/50 [00:00<?, ?it/s]"
     ]
    },
    {
     "name": "stdout",
     "output_type": "stream",
     "text": [
      "Doing N = 203, Chance = 0.2222222222222222 now\n"
     ]
    },
    {
     "name": "stderr",
     "output_type": "stream",
     "text": [
      "100%|██████████| 50/50 [00:01<00:00, 36.11it/s]\n",
      "  0%|          | 0/50 [00:00<?, ?it/s]"
     ]
    },
    {
     "name": "stdout",
     "output_type": "stream",
     "text": [
      "Doing N = 203, Chance = 0.2777777777777778 now\n"
     ]
    },
    {
     "name": "stderr",
     "output_type": "stream",
     "text": [
      "100%|██████████| 50/50 [00:01<00:00, 36.09it/s]\n",
      "  0%|          | 0/50 [00:00<?, ?it/s]"
     ]
    },
    {
     "name": "stdout",
     "output_type": "stream",
     "text": [
      "Doing N = 203, Chance = 0.3333333333333333 now\n"
     ]
    },
    {
     "name": "stderr",
     "output_type": "stream",
     "text": [
      "100%|██████████| 50/50 [00:01<00:00, 33.41it/s]\n",
      "  0%|          | 0/50 [00:00<?, ?it/s]"
     ]
    },
    {
     "name": "stdout",
     "output_type": "stream",
     "text": [
      "Doing N = 203, Chance = 0.38888888888888884 now\n"
     ]
    },
    {
     "name": "stderr",
     "output_type": "stream",
     "text": [
      "100%|██████████| 50/50 [00:01<00:00, 31.71it/s]\n",
      "  0%|          | 0/50 [00:00<?, ?it/s]"
     ]
    },
    {
     "name": "stdout",
     "output_type": "stream",
     "text": [
      "Doing N = 203, Chance = 0.4444444444444444 now\n"
     ]
    },
    {
     "name": "stderr",
     "output_type": "stream",
     "text": [
      "100%|██████████| 50/50 [00:01<00:00, 31.68it/s]\n",
      "  0%|          | 0/50 [00:00<?, ?it/s]"
     ]
    },
    {
     "name": "stdout",
     "output_type": "stream",
     "text": [
      "Doing N = 203, Chance = 0.5 now\n"
     ]
    },
    {
     "name": "stderr",
     "output_type": "stream",
     "text": [
      "100%|██████████| 50/50 [00:01<00:00, 29.40it/s]\n",
      "  0%|          | 0/50 [00:00<?, ?it/s]"
     ]
    },
    {
     "name": "stdout",
     "output_type": "stream",
     "text": [
      "Doing N = 323, Chance = 0.0 now\n"
     ]
    },
    {
     "name": "stderr",
     "output_type": "stream",
     "text": [
      "100%|██████████| 50/50 [00:01<00:00, 26.70it/s]\n",
      "  0%|          | 0/50 [00:00<?, ?it/s]"
     ]
    },
    {
     "name": "stdout",
     "output_type": "stream",
     "text": [
      "Doing N = 323, Chance = 0.05555555555555555 now\n"
     ]
    },
    {
     "name": "stderr",
     "output_type": "stream",
     "text": [
      "100%|██████████| 50/50 [00:02<00:00, 24.90it/s]\n",
      "  0%|          | 0/50 [00:00<?, ?it/s]"
     ]
    },
    {
     "name": "stdout",
     "output_type": "stream",
     "text": [
      "Doing N = 323, Chance = 0.1111111111111111 now\n"
     ]
    },
    {
     "name": "stderr",
     "output_type": "stream",
     "text": [
      "100%|██████████| 50/50 [00:02<00:00, 22.15it/s]\n",
      "  0%|          | 0/50 [00:00<?, ?it/s]"
     ]
    },
    {
     "name": "stdout",
     "output_type": "stream",
     "text": [
      "Doing N = 323, Chance = 0.16666666666666666 now\n"
     ]
    },
    {
     "name": "stderr",
     "output_type": "stream",
     "text": [
      "100%|██████████| 50/50 [00:02<00:00, 17.74it/s]\n",
      "  0%|          | 0/50 [00:00<?, ?it/s]"
     ]
    },
    {
     "name": "stdout",
     "output_type": "stream",
     "text": [
      "Doing N = 323, Chance = 0.2222222222222222 now\n"
     ]
    },
    {
     "name": "stderr",
     "output_type": "stream",
     "text": [
      "100%|██████████| 50/50 [00:03<00:00, 15.29it/s]\n",
      "  0%|          | 0/50 [00:00<?, ?it/s]"
     ]
    },
    {
     "name": "stdout",
     "output_type": "stream",
     "text": [
      "Doing N = 323, Chance = 0.2777777777777778 now\n"
     ]
    },
    {
     "name": "stderr",
     "output_type": "stream",
     "text": [
      "100%|██████████| 50/50 [00:03<00:00, 13.13it/s]\n",
      "  0%|          | 0/50 [00:00<?, ?it/s]"
     ]
    },
    {
     "name": "stdout",
     "output_type": "stream",
     "text": [
      "Doing N = 323, Chance = 0.3333333333333333 now\n"
     ]
    },
    {
     "name": "stderr",
     "output_type": "stream",
     "text": [
      "100%|██████████| 50/50 [00:04<00:00, 10.74it/s]\n",
      "  0%|          | 0/50 [00:00<?, ?it/s]"
     ]
    },
    {
     "name": "stdout",
     "output_type": "stream",
     "text": [
      "Doing N = 323, Chance = 0.38888888888888884 now\n"
     ]
    },
    {
     "name": "stderr",
     "output_type": "stream",
     "text": [
      "100%|██████████| 50/50 [00:04<00:00, 10.11it/s]\n",
      "  0%|          | 0/50 [00:00<?, ?it/s]"
     ]
    },
    {
     "name": "stdout",
     "output_type": "stream",
     "text": [
      "Doing N = 323, Chance = 0.4444444444444444 now\n"
     ]
    },
    {
     "name": "stderr",
     "output_type": "stream",
     "text": [
      "100%|██████████| 50/50 [00:06<00:00,  7.32it/s]\n",
      "  0%|          | 0/50 [00:00<?, ?it/s]"
     ]
    },
    {
     "name": "stdout",
     "output_type": "stream",
     "text": [
      "Doing N = 323, Chance = 0.5 now\n"
     ]
    },
    {
     "name": "stderr",
     "output_type": "stream",
     "text": [
      "100%|██████████| 50/50 [00:08<00:00,  5.57it/s]\n",
      "  0%|          | 0/50 [00:00<?, ?it/s]"
     ]
    },
    {
     "name": "stdout",
     "output_type": "stream",
     "text": [
      "Doing N = 512, Chance = 0.0 now\n"
     ]
    },
    {
     "name": "stderr",
     "output_type": "stream",
     "text": [
      "100%|██████████| 50/50 [00:02<00:00, 17.14it/s]\n",
      "  0%|          | 0/50 [00:00<?, ?it/s]"
     ]
    },
    {
     "name": "stdout",
     "output_type": "stream",
     "text": [
      "Doing N = 512, Chance = 0.05555555555555555 now\n"
     ]
    },
    {
     "name": "stderr",
     "output_type": "stream",
     "text": [
      "100%|██████████| 50/50 [00:03<00:00, 12.94it/s]\n",
      "  0%|          | 0/50 [00:00<?, ?it/s]"
     ]
    },
    {
     "name": "stdout",
     "output_type": "stream",
     "text": [
      "Doing N = 512, Chance = 0.1111111111111111 now\n"
     ]
    },
    {
     "name": "stderr",
     "output_type": "stream",
     "text": [
      "100%|██████████| 50/50 [00:09<00:00,  5.13it/s]\n",
      "  0%|          | 0/50 [00:00<?, ?it/s]"
     ]
    },
    {
     "name": "stdout",
     "output_type": "stream",
     "text": [
      "Doing N = 512, Chance = 0.16666666666666666 now\n"
     ]
    },
    {
     "name": "stderr",
     "output_type": "stream",
     "text": [
      "100%|██████████| 50/50 [00:17<00:00,  2.89it/s]\n",
      "  0%|          | 0/50 [00:00<?, ?it/s]"
     ]
    },
    {
     "name": "stdout",
     "output_type": "stream",
     "text": [
      "Doing N = 512, Chance = 0.2222222222222222 now\n"
     ]
    },
    {
     "name": "stderr",
     "output_type": "stream",
     "text": [
      "100%|██████████| 50/50 [00:27<00:00,  1.79it/s]\n",
      "  0%|          | 0/50 [00:00<?, ?it/s]"
     ]
    },
    {
     "name": "stdout",
     "output_type": "stream",
     "text": [
      "Doing N = 512, Chance = 0.2777777777777778 now\n"
     ]
    },
    {
     "name": "stderr",
     "output_type": "stream",
     "text": [
      "100%|██████████| 50/50 [00:36<00:00,  1.36it/s]\n",
      "  0%|          | 0/50 [00:00<?, ?it/s]"
     ]
    },
    {
     "name": "stdout",
     "output_type": "stream",
     "text": [
      "Doing N = 512, Chance = 0.3333333333333333 now\n"
     ]
    },
    {
     "name": "stderr",
     "output_type": "stream",
     "text": [
      "100%|██████████| 50/50 [00:41<00:00,  1.19it/s]\n",
      "  0%|          | 0/50 [00:00<?, ?it/s]"
     ]
    },
    {
     "name": "stdout",
     "output_type": "stream",
     "text": [
      "Doing N = 512, Chance = 0.38888888888888884 now\n"
     ]
    },
    {
     "name": "stderr",
     "output_type": "stream",
     "text": [
      "100%|██████████| 50/50 [00:38<00:00,  1.28it/s]\n",
      "  0%|          | 0/50 [00:00<?, ?it/s]"
     ]
    },
    {
     "name": "stdout",
     "output_type": "stream",
     "text": [
      "Doing N = 512, Chance = 0.4444444444444444 now\n"
     ]
    },
    {
     "name": "stderr",
     "output_type": "stream",
     "text": [
      "100%|██████████| 50/50 [00:36<00:00,  1.37it/s]\n",
      "  0%|          | 0/50 [00:00<?, ?it/s]"
     ]
    },
    {
     "name": "stdout",
     "output_type": "stream",
     "text": [
      "Doing N = 512, Chance = 0.5 now\n"
     ]
    },
    {
     "name": "stderr",
     "output_type": "stream",
     "text": [
      "100%|██████████| 50/50 [00:36<00:00,  1.37it/s]\n",
      "  0%|          | 0/50 [00:00<?, ?it/s]"
     ]
    },
    {
     "name": "stdout",
     "output_type": "stream",
     "text": [
      "Doing N = 813, Chance = 0.0 now\n"
     ]
    },
    {
     "name": "stderr",
     "output_type": "stream",
     "text": [
      "100%|██████████| 50/50 [00:04<00:00, 10.99it/s]\n",
      "  0%|          | 0/50 [00:00<?, ?it/s]"
     ]
    },
    {
     "name": "stdout",
     "output_type": "stream",
     "text": [
      "Doing N = 813, Chance = 0.05555555555555555 now\n"
     ]
    },
    {
     "name": "stderr",
     "output_type": "stream",
     "text": [
      "100%|██████████| 50/50 [00:23<00:00,  2.16it/s]\n",
      "  0%|          | 0/50 [00:00<?, ?it/s]"
     ]
    },
    {
     "name": "stdout",
     "output_type": "stream",
     "text": [
      "Doing N = 813, Chance = 0.1111111111111111 now\n"
     ]
    },
    {
     "name": "stderr",
     "output_type": "stream",
     "text": [
      "100%|██████████| 50/50 [01:34<00:00,  1.89s/it]\n",
      "  0%|          | 0/50 [00:00<?, ?it/s]"
     ]
    },
    {
     "name": "stdout",
     "output_type": "stream",
     "text": [
      "Doing N = 813, Chance = 0.16666666666666666 now\n"
     ]
    },
    {
     "name": "stderr",
     "output_type": "stream",
     "text": [
      "100%|██████████| 50/50 [02:14<00:00,  2.69s/it]\n",
      "  0%|          | 0/50 [00:00<?, ?it/s]"
     ]
    },
    {
     "name": "stdout",
     "output_type": "stream",
     "text": [
      "Doing N = 813, Chance = 0.2222222222222222 now\n"
     ]
    },
    {
     "name": "stderr",
     "output_type": "stream",
     "text": [
      "100%|██████████| 50/50 [02:04<00:00,  2.48s/it]\n",
      "  0%|          | 0/50 [00:00<?, ?it/s]"
     ]
    },
    {
     "name": "stdout",
     "output_type": "stream",
     "text": [
      "Doing N = 813, Chance = 0.2777777777777778 now\n"
     ]
    },
    {
     "name": "stderr",
     "output_type": "stream",
     "text": [
      "100%|██████████| 50/50 [02:02<00:00,  2.46s/it]\n",
      "  0%|          | 0/50 [00:00<?, ?it/s]"
     ]
    },
    {
     "name": "stdout",
     "output_type": "stream",
     "text": [
      "Doing N = 813, Chance = 0.3333333333333333 now\n"
     ]
    },
    {
     "name": "stderr",
     "output_type": "stream",
     "text": [
      "100%|██████████| 50/50 [01:54<00:00,  2.29s/it]\n",
      "  0%|          | 0/50 [00:00<?, ?it/s]"
     ]
    },
    {
     "name": "stdout",
     "output_type": "stream",
     "text": [
      "Doing N = 813, Chance = 0.38888888888888884 now\n"
     ]
    },
    {
     "name": "stderr",
     "output_type": "stream",
     "text": [
      "100%|██████████| 50/50 [02:03<00:00,  2.46s/it]\n",
      "  0%|          | 0/50 [00:00<?, ?it/s]"
     ]
    },
    {
     "name": "stdout",
     "output_type": "stream",
     "text": [
      "Doing N = 813, Chance = 0.4444444444444444 now\n"
     ]
    },
    {
     "name": "stderr",
     "output_type": "stream",
     "text": [
      "100%|██████████| 50/50 [01:58<00:00,  2.37s/it]\n",
      "  0%|          | 0/50 [00:00<?, ?it/s]"
     ]
    },
    {
     "name": "stdout",
     "output_type": "stream",
     "text": [
      "Doing N = 813, Chance = 0.5 now\n"
     ]
    },
    {
     "name": "stderr",
     "output_type": "stream",
     "text": [
      "100%|██████████| 50/50 [01:41<00:00,  2.03s/it]\n",
      "  0%|          | 0/50 [00:00<?, ?it/s]"
     ]
    },
    {
     "name": "stdout",
     "output_type": "stream",
     "text": [
      "Doing N = 1290, Chance = 0.0 now\n"
     ]
    },
    {
     "name": "stderr",
     "output_type": "stream",
     "text": [
      "100%|██████████| 50/50 [00:07<00:00,  6.78it/s]\n",
      "  0%|          | 0/50 [00:00<?, ?it/s]"
     ]
    },
    {
     "name": "stdout",
     "output_type": "stream",
     "text": [
      "Doing N = 1290, Chance = 0.05555555555555555 now\n"
     ]
    },
    {
     "name": "stderr",
     "output_type": "stream",
     "text": [
      "100%|██████████| 50/50 [05:37<00:00,  6.76s/it]\n",
      "  0%|          | 0/50 [00:00<?, ?it/s]"
     ]
    },
    {
     "name": "stdout",
     "output_type": "stream",
     "text": [
      "Doing N = 1290, Chance = 0.1111111111111111 now\n"
     ]
    },
    {
     "name": "stderr",
     "output_type": "stream",
     "text": [
      "100%|██████████| 50/50 [03:45<00:00,  4.51s/it]\n",
      "  0%|          | 0/50 [00:00<?, ?it/s]"
     ]
    },
    {
     "name": "stdout",
     "output_type": "stream",
     "text": [
      "Doing N = 1290, Chance = 0.16666666666666666 now\n"
     ]
    },
    {
     "name": "stderr",
     "output_type": "stream",
     "text": [
      "100%|██████████| 50/50 [05:02<00:00,  6.05s/it]\n",
      "  0%|          | 0/50 [00:00<?, ?it/s]"
     ]
    },
    {
     "name": "stdout",
     "output_type": "stream",
     "text": [
      "Doing N = 1290, Chance = 0.2222222222222222 now\n"
     ]
    },
    {
     "name": "stderr",
     "output_type": "stream",
     "text": [
      "100%|██████████| 50/50 [04:23<00:00,  5.28s/it]\n",
      "  0%|          | 0/50 [00:00<?, ?it/s]"
     ]
    },
    {
     "name": "stdout",
     "output_type": "stream",
     "text": [
      "Doing N = 1290, Chance = 0.2777777777777778 now\n"
     ]
    },
    {
     "name": "stderr",
     "output_type": "stream",
     "text": [
      "100%|██████████| 50/50 [04:05<00:00,  4.91s/it]\n",
      "  0%|          | 0/50 [00:00<?, ?it/s]"
     ]
    },
    {
     "name": "stdout",
     "output_type": "stream",
     "text": [
      "Doing N = 1290, Chance = 0.3333333333333333 now\n"
     ]
    },
    {
     "name": "stderr",
     "output_type": "stream",
     "text": [
      "100%|██████████| 50/50 [04:00<00:00,  4.82s/it]\n",
      "  0%|          | 0/50 [00:00<?, ?it/s]"
     ]
    },
    {
     "name": "stdout",
     "output_type": "stream",
     "text": [
      "Doing N = 1290, Chance = 0.38888888888888884 now\n"
     ]
    },
    {
     "name": "stderr",
     "output_type": "stream",
     "text": [
      "100%|██████████| 50/50 [03:38<00:00,  4.37s/it]\n",
      "  0%|          | 0/50 [00:00<?, ?it/s]"
     ]
    },
    {
     "name": "stdout",
     "output_type": "stream",
     "text": [
      "Doing N = 1290, Chance = 0.4444444444444444 now\n"
     ]
    },
    {
     "name": "stderr",
     "output_type": "stream",
     "text": [
      "100%|██████████| 50/50 [03:32<00:00,  4.26s/it]\n",
      "  0%|          | 0/50 [00:00<?, ?it/s]"
     ]
    },
    {
     "name": "stdout",
     "output_type": "stream",
     "text": [
      "Doing N = 1290, Chance = 0.5 now\n"
     ]
    },
    {
     "name": "stderr",
     "output_type": "stream",
     "text": [
      "100%|██████████| 50/50 [03:28<00:00,  4.17s/it]\n",
      "  0%|          | 0/50 [00:00<?, ?it/s]"
     ]
    },
    {
     "name": "stdout",
     "output_type": "stream",
     "text": [
      "Doing N = 2048, Chance = 0.0 now\n"
     ]
    },
    {
     "name": "stderr",
     "output_type": "stream",
     "text": [
      "100%|██████████| 50/50 [00:11<00:00,  4.29it/s]\n",
      "  0%|          | 0/50 [00:00<?, ?it/s]"
     ]
    },
    {
     "name": "stdout",
     "output_type": "stream",
     "text": [
      "Doing N = 2048, Chance = 0.05555555555555555 now\n"
     ]
    },
    {
     "name": "stderr",
     "output_type": "stream",
     "text": [
      "100%|██████████| 50/50 [13:33<00:00, 16.27s/it]\n",
      "  0%|          | 0/50 [00:00<?, ?it/s]"
     ]
    },
    {
     "name": "stdout",
     "output_type": "stream",
     "text": [
      "Doing N = 2048, Chance = 0.1111111111111111 now\n"
     ]
    },
    {
     "name": "stderr",
     "output_type": "stream",
     "text": [
      "100%|██████████| 50/50 [11:47<00:00, 14.15s/it]\n",
      "  0%|          | 0/50 [00:00<?, ?it/s]"
     ]
    },
    {
     "name": "stdout",
     "output_type": "stream",
     "text": [
      "Doing N = 2048, Chance = 0.16666666666666666 now\n"
     ]
    },
    {
     "name": "stderr",
     "output_type": "stream",
     "text": [
      "100%|██████████| 50/50 [10:17<00:00, 12.35s/it]\n",
      "  0%|          | 0/50 [00:00<?, ?it/s]"
     ]
    },
    {
     "name": "stdout",
     "output_type": "stream",
     "text": [
      "Doing N = 2048, Chance = 0.2222222222222222 now\n"
     ]
    },
    {
     "name": "stderr",
     "output_type": "stream",
     "text": [
      "100%|██████████| 50/50 [09:33<00:00, 11.48s/it]\n",
      "  0%|          | 0/50 [00:00<?, ?it/s]"
     ]
    },
    {
     "name": "stdout",
     "output_type": "stream",
     "text": [
      "Doing N = 2048, Chance = 0.2777777777777778 now\n"
     ]
    },
    {
     "name": "stderr",
     "output_type": "stream",
     "text": [
      "100%|██████████| 50/50 [08:23<00:00, 10.08s/it]\n",
      "  0%|          | 0/50 [00:00<?, ?it/s]"
     ]
    },
    {
     "name": "stdout",
     "output_type": "stream",
     "text": [
      "Doing N = 2048, Chance = 0.3333333333333333 now\n"
     ]
    },
    {
     "name": "stderr",
     "output_type": "stream",
     "text": [
      "100%|██████████| 50/50 [07:52<00:00,  9.44s/it]\n",
      "  0%|          | 0/50 [00:00<?, ?it/s]"
     ]
    },
    {
     "name": "stdout",
     "output_type": "stream",
     "text": [
      "Doing N = 2048, Chance = 0.38888888888888884 now\n"
     ]
    },
    {
     "name": "stderr",
     "output_type": "stream",
     "text": [
      "100%|██████████| 50/50 [07:28<00:00,  8.96s/it]\n",
      "  0%|          | 0/50 [00:00<?, ?it/s]"
     ]
    },
    {
     "name": "stdout",
     "output_type": "stream",
     "text": [
      "Doing N = 2048, Chance = 0.4444444444444444 now\n"
     ]
    },
    {
     "name": "stderr",
     "output_type": "stream",
     "text": [
      "100%|██████████| 50/50 [07:16<00:00,  8.73s/it]\n",
      "  0%|          | 0/50 [00:00<?, ?it/s]"
     ]
    },
    {
     "name": "stdout",
     "output_type": "stream",
     "text": [
      "Doing N = 2048, Chance = 0.5 now\n"
     ]
    },
    {
     "name": "stderr",
     "output_type": "stream",
     "text": [
      "100%|██████████| 50/50 [06:22<00:00,  7.65s/it]\n"
     ]
    }
   ],
   "source": [
    "#Let us attempt to construct an ENTIRE phase diagram over N and chance to infect\n",
    "Ns = np.round(np.logspace(5,11,num=10,base=2))\n",
    "chances = np.linspace(0,0.5,num=10)\n",
    "phase_diag_experiments = []\n",
    "for i in Ns:\n",
    "    thisN = int(i)\n",
    "    thisNexperiments = []\n",
    "    for c in chances:\n",
    "        thischance = c\n",
    "        print('Doing N = %s, Chance = %s now'%(thisN,thischance))\n",
    "        a = Experiment(50,thischance,thisN,-50,50,-50,50,walk_method='Random_single_walk')\n",
    "        # a.run_func_for_parallel(10,100)\n",
    "        a.run_forward_for_x_days(300)\n",
    "        thisNexperiments.append(a)\n",
    "    phase_diag_experiments.append(thisNexperiments)"
   ]
  },
  {
   "cell_type": "code",
   "execution_count": 5,
   "id": "6a283b63",
   "metadata": {},
   "outputs": [],
   "source": [
    "heatmap = []\n",
    "for i in range(len(Ns)):\n",
    "    thisheatmaprow = []\n",
    "    for c in range(len(chances)):\n",
    "        thisheatmaprow.append(phase_diag_experiments[i][c].get_results_average()['healthy'][-1])\n",
    "    heatmap.append(thisheatmaprow)"
   ]
  },
  {
   "cell_type": "code",
   "execution_count": 17,
   "id": "39ad6ec5",
   "metadata": {},
   "outputs": [
    {
     "data": {
      "text/plain": [
       "Text(0.5, 1.0, 'Percentage healthy at end')"
      ]
     },
     "execution_count": 17,
     "metadata": {},
     "output_type": "execute_result"
    },
    {
     "data": {
      "image/png": "[encoded data removed]",
      "text/plain": [
       "<Figure size 1152x1152 with 2 Axes>"
      ]
     },
     "metadata": {
      "needs_background": "light"
     },
     "output_type": "display_data"
    },
    {
     "ename": "",
     "evalue": "",
     "output_type": "error",
     "traceback": [
      "\u001b[1;31mThe Kernel crashed while executing code in the the current cell or a previous cell. Please review the code in the cell(s) to identify a possible cause of the failure. Click <a href='https://aka.ms/vscodeJupyterKernelCrash'>here</a> for more info. View Jupyter <a href='command:jupyter.viewOutput'>log</a> for further details."
     ]
    }
   ],
   "source": [
    "heatmap = np.array(heatmap)\n",
    "fig, ax = plt.subplots(figsize=(16, 16))\n",
    "img = ax.imshow(heatmap,cmap='hot')\n",
    "ax.set_aspect(\"auto\")\n",
    "xlength = len(heatmap[0])\n",
    "plt.yticks(np.linspace(0,xlength-1,num=10,endpoint=True),np.array(Ns))\n",
    "ylength = len(heatmap)\n",
    "plt.xticks(np.linspace(0,ylength-1,num=10,endpoint=True),np.round(np.array(chances),4))\n",
    "plt.colorbar(img)\n",
    "plt.xlabel('Infect Chance')\n",
    "plt.ylabel('N')\n",
    "plt.title('Percentage healthy at end') "
   ]
  },
  {
   "cell_type": "code",
   "execution_count": null,
   "id": "43479e5d",
   "metadata": {},
   "outputs": [],
   "source": []
  }
 ],
 "metadata": {
  "kernelspec": {
   "display_name": "Python 3",
   "language": "python",
   "name": "python3"
  },
  "language_info": {
   "codemirror_mode": {
    "name": "ipython",
    "version": 3
   },
   "file_extension": ".py",
   "mimetype": "text/x-python",
   "name": "python",
   "nbconvert_exporter": "python",
   "pygments_lexer": "ipython3",
   "version": "3.9.5"
  },
  "vscode": {
   "interpreter": {
    "hash": "1a26e4b7189bf03eb81522675f6e6c88684ba722547c6ad443d3676f771c332f"
   }
  }
 },
 "nbformat": 4,
 "nbformat_minor": 5
}
