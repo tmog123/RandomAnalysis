{
 "cells": [
  {
   "cell_type": "markdown",
   "metadata": {},
   "source": [
    "https://unece.org/fileadmin/DAM/stats/documents/ece/ces/ge.11/2013/WP_10.1.pdf\n",
    "\n",
    "https://www.nature.com/articles/s41467-022-29094-x"
   ]
  },
  {
   "cell_type": "markdown",
   "metadata": {},
   "source": []
  }
 ],
 "metadata": {
  "language_info": {
   "name": "python"
  },
  "orig_nbformat": 4
 },
 "nbformat": 4,
 "nbformat_minor": 2
}
