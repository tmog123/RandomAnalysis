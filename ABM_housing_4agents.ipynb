{
 "cells": [
  {
   "cell_type": "code",
   "execution_count": 1,
   "id": "5a928870-7114-4325-998f-6d01d868700a",
   "metadata": {},
   "outputs": [],
   "source": [
    "import numpy as np\n",
    "import scipy as scp\n",
    "import matplotlib.pyplot as plt\n",
    "from joblib import Parallel, delayed\n",
    "from tqdm import tqdm\n",
    "\n",
    "def plot_histogram(data,numberofbins,label,minimum,maximum):\n",
    "    bins = np.linspace(minimum, maximum, numberofbins)\n",
    "    bin_probabilities = np.histogram(data,bins)[0]/len(data)\n",
    "    leftedges = bins[:-1]\n",
    "    rightedges = bins[1:]\n",
    "    widths = np.array(rightedges)-np.array(leftedges)\n",
    "    plt.bar(leftedges,bin_probabilities,width=widths,align='edge',label=label,alpha=0.5)\n",
    "    binmidvalues = [(bins[i]+bins[i+1])/2 for i in range(len(bins)-1)]"
   ]
  },
  {
   "cell_type": "code",
   "execution_count": 2,
   "id": "91319b0e-4fdf-4825-b9e7-c627d54bd230",
   "metadata": {},
   "outputs": [],
   "source": [
    "def monthly_mortgage_calculator(principal,monthly_rate,total_loan_months = 20*12):\n",
    "    if principal<=0:\n",
    "        return 0\n",
    "    numerator = principal*monthly_rate*((1+monthly_rate)**total_loan_months)\n",
    "    denominator = ((1+monthly_rate)**total_loan_months - 1)\n",
    "    return numerator/denominator\n",
    "\n",
    "def outstanding_loan_balance(principal,monthly_rate,total_loan_months,months_paid):\n",
    "    numerator = principal*( (1+monthly_rate)**total_loan_months - (1+monthly_rate)**months_paid )\n",
    "    denominator = ((1+monthly_rate)**total_loan_months - 1)\n",
    "    return numerator/denominator\n",
    "\n",
    "class House(object):\n",
    "    def __init__(self,price,house_type,monthly_rate,initial_paid,loan_months = 20*12):\n",
    "        self.house_type = house_type\n",
    "        self.price = price\n",
    "        self.initial_paid = initial_paid\n",
    "        self.monthly_rate = monthly_rate\n",
    "        self.loan_amount = price-initial_paid\n",
    "        self.loan_principal_left = price-initial_paid\n",
    "        self.loan_months = loan_months\n",
    "        self.months_paid = 0\n",
    "        self.monthly_repayment = monthly_mortgage_calculator(price-initial_paid,monthly_rate,loan_months)\n",
    "    def finish_paid(self):\n",
    "        if self.months_paid == self.loan_months:\n",
    "            return True\n",
    "        else:\n",
    "            return False\n",
    "    def pay_loan(self):\n",
    "        if self.finish_paid() == False:\n",
    "            self.months_paid = self.months_paid + 1\n",
    "            self.loan_principal_left = outstanding_loan_balance(self.loan_amount,self.monthly_rate,self.loan_months,self.months_paid)\n",
    "    def get_house_type(self):\n",
    "        return self.house_type\n",
    "    def monthly_repayments(self):\n",
    "        if self.finish_paid() == True:\n",
    "            return 0\n",
    "        else:\n",
    "            return self.monthly_repayment\n",
    "    def get_original_price(self):\n",
    "        return self.price\n",
    "\n",
    "def makes_sense_to_sell(house,current_resale_price,rental_price):\n",
    "    if house.monthly_repayments()<=rental_price:#Check if rentals cover monthly repayments\n",
    "        return False\n",
    "    else:\n",
    "        if house.get_original_price()<current_resale_price:#Check if will make profit\n",
    "            return True\n",
    "        else:\n",
    "            return False\n",
    "        \n",
    "class Person(object):\n",
    "    def __init__(self,salary):\n",
    "        self.salary = salary\n",
    "        self.savings = 0\n",
    "        self.HDB_properties = []\n",
    "        self.condo_properties = []\n",
    "        self.agent_type = 1 #1: Household no property, 2: Household with HDB no condo, 3: Household with single condo, 4: Household with multiple property\n",
    "        self.selling_HDB = False\n",
    "        self.selling_condo = False\n",
    "        self.buying_HDB = False\n",
    "        self.buying_condo = False\n",
    "    def owns_HDB(self):\n",
    "        if len(self.HDB_properties) == 0:\n",
    "            return False\n",
    "        else:\n",
    "            return True\n",
    "    def get_savings(self):\n",
    "        return self.savings\n",
    "    def owns_condo(self):\n",
    "        if len(self.condo_properties) == 0:\n",
    "            return False\n",
    "        else:\n",
    "            return True\n",
    "    def add_HDB(self,the_HDB):\n",
    "        if self.owns_HDB() == True:\n",
    "            raise Exception('Cannot add HDB to someone already owning HDB')\n",
    "        elif self.owns_condo() == True:\n",
    "            raise Exception('Cannot add HDB to someone owning condo')\n",
    "        elif the_HDB.get_house_type() != 'HDB':\n",
    "            raise Exception('This is not a HDB!')\n",
    "        else:\n",
    "            self.HDB_properties.append(the_HDB)\n",
    "    def add_condo(self,the_condo):\n",
    "        if the_condo.get_house_type() != 'condo':\n",
    "            raise Exception('This is not a condo!')\n",
    "        else:\n",
    "            self.HDB_properties.append(the_condo)\n",
    "    def count_property(self):\n",
    "        return len(self.HDB_properties)+len(self.condo_properties)\n",
    "    def calculate_income(self,rental_price):\n",
    "        income = self.salary\n",
    "        expenses = 0\n",
    "        if self.count_property()==0:\n",
    "            return income\n",
    "        else:\n",
    "            for a in self.HDB_properties:\n",
    "                expenses = expenses + a.monthly_repayments()\n",
    "            for a in self.condo_properties:\n",
    "                expenses = expenses + a.monthly_repayments()\n",
    "            if self.count_property()>1:\n",
    "                income = income + (self.count_property()-1)*rental_price\n",
    "            return income-expenses\n",
    "    def make_decisions(self,HDB_price,condo_price,rental_price,monthly_mortgage_rate):\n",
    "        #agent_type 2: Check if can afford to buy a resale condo without selling. \n",
    "        #Then, check if can afford to buy a resale condo with selling HDB\n",
    "        self.selling_HDB = False\n",
    "        self.selling_condo = False\n",
    "        self.buying_HDB = False\n",
    "        self.buying_condo = False\n",
    "        if self.agent_type == 2:\n",
    "            if monthly_mortgage_calculator(condo_price-self.savings,monthly_mortgage_rate)<rental_price:#Rental covers mortgage\n",
    "                self.buying_condo = True\n",
    "            else:\n",
    "                if monthly_mortgage_calculator(condo_price-HDB_price-self.savings,monthly_mortgage_rate)<self.income:#Can afford to upgrade to condo by selling HDB\n",
    "                    #This happens in 2 steps tho, in this first step agent sells HDB\n",
    "                    self.selling_HDB = True\n",
    "                #Else does nothing\n",
    "\n",
    "        elif self.agent_type == 1:#Potential buyer for both HDB and condo\n",
    "            self.buying_condo = True\n",
    "            self.buying_HDB = True\n",
    "        elif self.agent_type == 3:\n",
    "            if monthly_mortgage_calculator(condo_price-self.savings,monthly_mortgage_rate)<rental_price:#Rental covers mortgage\n",
    "                self.buying_condo = True\n",
    "        elif self.agent_type == 4:\n",
    "            #First, check if income is negative. If negative, check if savings are 0. If so, he must sell a condo\n",
    "            if self.calculate_income(rental_price)<=0:\n",
    "                if self.savings <=0:\n",
    "                    self.selling_condo = True\n",
    "            else:#Check if he can buy condo first\n",
    "                if monthly_mortgage_calculator(condo_price-self.savings,monthly_mortgage_rate)<rental_price:#Rental covers mortgage\n",
    "                    self.buying_condo = True\n",
    "                else:\n",
    "                    #Check if selling HDB makes sense if own HDB\n",
    "                    if self.owns_HDB() == True:\n",
    "                        if makes_sense_to_sell(self.HDB_properties[0],HDB_price,rental_price) == True:\n",
    "                            self.selling_HDB = True\n",
    "                    #Check if selling any condo makes sense\n",
    "                    elif self.owns_condo() == True:\n",
    "                        for a in self.condo_properties:\n",
    "                            if makes_sense_to_sell(a,condo_price,rental_price)==True:\n",
    "                                self.selling_condo = True\n",
    "                                break\n",
    "    def admin_update_agent_type(self):\n",
    "        if self.count_property() == 0:\n",
    "            self.agent_type = 1\n",
    "        elif self.count_property() == 1 and self.owns_HDB() == True:\n",
    "            self.agent_type = 2\n",
    "        elif self.count_property() == 1 and self.owns_condo() == True:\n",
    "            self.agent_type = 3\n",
    "        elif self.count_property()>=2:\n",
    "            self.agent_type = 4\n",
    "    def update_savings(self,rental_price):\n",
    "        self.savings = self.savings + self.calculate_income(rental_price)\n",
    "    def pay_loans(self):\n",
    "        for a in self.HDB_properties:\n",
    "            a.pay_loan()\n",
    "        for a in self.condo_properties:\n",
    "            a.pay_loan()\n",
    "    def remove_amt_from_savings(self,amount):\n",
    "        self.savings = self.savings - amount\n",
    "    def calculate_max_buying_price(self,rental_price,monthly_rate,total_loan_months = 20*12):\n",
    "        if self.calculate_income(rental_price)<=0:\n",
    "            return 0\n",
    "        max_mortgage_repayment = self.calculate_income(rental_price)\n",
    "        max_principal = (max_mortgage_repayment*((1+monthly_rate)**total_loan_months - 1))/(monthly_rate*((1+monthly_rate)**total_loan_months))\n",
    "        return max_principal + self.savings\n",
    "\n",
    "            \n",
    "        \n",
    "            \n",
    "            \n",
    "        "
   ]
  },
  {
   "cell_type": "code",
   "execution_count": 3,
   "id": "247d03a6-78e0-4bdf-af14-98edadaca1f7",
   "metadata": {},
   "outputs": [],
   "source": [
    "a_HDB = House(price=1000000,house_type='HDB',monthly_rate=(0.04/12),initial_paid = 100000,loan_months = 20*12)\n",
    "a_condo = House(price=2000000,house_type='condo',monthly_rate=(0.04/12),initial_paid = 100000,loan_months = 20*12)\n",
    "a_person = Person(salary=10000)"
   ]
  },
  {
   "cell_type": "code",
   "execution_count": 4,
   "id": "50d3fa01-7670-47c4-a45c-04c70a63dc6f",
   "metadata": {},
   "outputs": [
    {
     "data": {
      "text/plain": [
       "True"
      ]
     },
     "execution_count": 4,
     "metadata": {},
     "output_type": "execute_result"
    }
   ],
   "source": [
    "a_person.add_HDB(the_HDB=a_HDB)\n",
    "a_person.owns_HDB()"
   ]
  },
  {
   "cell_type": "code",
   "execution_count": 5,
   "id": "c8f190d7-6234-4dcb-b828-4ed766058b28",
   "metadata": {},
   "outputs": [
    {
     "data": {
      "text/plain": [
       "1"
      ]
     },
     "execution_count": 5,
     "metadata": {},
     "output_type": "execute_result"
    }
   ],
   "source": [
    "a_person.count_property()"
   ]
  },
  {
   "cell_type": "code",
   "execution_count": 6,
   "id": "dc4f5fde-b214-4c26-a523-df51fedaf3b1",
   "metadata": {},
   "outputs": [],
   "source": [
    "a_person.add_condo(a_condo)"
   ]
  },
  {
   "cell_type": "code",
   "execution_count": 7,
   "id": "e00798b9-794f-4116-a8d4-884a68a5108a",
   "metadata": {},
   "outputs": [
    {
     "data": {
      "text/plain": [
       "2"
      ]
     },
     "execution_count": 7,
     "metadata": {},
     "output_type": "execute_result"
    }
   ],
   "source": [
    "a_person.count_property()"
   ]
  },
  {
   "cell_type": "code",
   "execution_count": null,
   "id": "78da6596-d0d3-4b2f-bb2e-78811759d4e4",
   "metadata": {},
   "outputs": [],
   "source": []
  }
 ],
 "metadata": {
  "kernelspec": {
   "display_name": "Python 3",
   "language": "python",
   "name": "python3"
  },
  "language_info": {
   "codemirror_mode": {
    "name": "ipython",
    "version": 3
   },
   "file_extension": ".py",
   "mimetype": "text/x-python",
   "name": "python",
   "nbconvert_exporter": "python",
   "pygments_lexer": "ipython3",
   "version": "3.9.5"
  },
  "vscode": {
   "interpreter": {
    "hash": "1a26e4b7189bf03eb81522675f6e6c88684ba722547c6ad443d3676f771c332f"
   }
  }
 },
 "nbformat": 4,
 "nbformat_minor": 5
}
